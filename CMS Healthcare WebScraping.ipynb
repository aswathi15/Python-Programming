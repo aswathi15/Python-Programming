{
 "cells": [
  {
   "cell_type": "code",
   "execution_count": 2,
   "metadata": {},
   "outputs": [
    {
     "name": "stdout",
     "output_type": "stream",
     "text": [
      "Collecting selenium\n",
      "  Downloading selenium-3.6.0-py2.py3-none-any.whl (924kB)\n",
      "Installing collected packages: selenium\n",
      "Successfully installed selenium-3.6.0\n"
     ]
    }
   ],
   "source": [
    "!pip install selenium"
   ]
  },
  {
   "cell_type": "code",
   "execution_count": 25,
   "metadata": {},
   "outputs": [
    {
     "name": "stdout",
     "output_type": "stream",
     "text": [
      "[[2226], [2229], [2230], [2097], [2098], [2099], [2103], [2106], [2107], [2108], [2111], [2112], [2114], [2120], [2122], [2123], [2125], [2126], [2127], [2128], [2129], [2130], [2132], [2133], [2134], [2135], [2136], [2137], [2139], [2140], [2142], [2144], [2146], [2228], [2233], [2237], [2238], [2241], [2242], [2243], [2245], [2246], [2251], [2252], [2253], [2258], [2262], [2263], [2264], [2266]]\n",
      "2226\n",
      "2229\n",
      "2230\n",
      "2097\n",
      "2098\n",
      "2099\n",
      "2103\n",
      "2106\n",
      "2107\n",
      "2108\n",
      "2111\n",
      "2112\n",
      "2114\n",
      "2120\n",
      "2122\n",
      "2123\n",
      "2125\n",
      "2126\n",
      "2127\n",
      "2128\n",
      "2129\n",
      "2130\n",
      "2132\n",
      "2133\n",
      "2134\n",
      "2135\n",
      "2136\n",
      "2137\n",
      "2139\n",
      "2140\n",
      "2142\n",
      "2144\n",
      "2146\n",
      "2228\n",
      "2233\n",
      "2237\n",
      "2238\n",
      "2241\n",
      "2242\n",
      "2243\n",
      "2245\n",
      "2246\n",
      "2251\n",
      "2252\n",
      "2253\n",
      "2258\n",
      "2262\n",
      "2263\n",
      "2264\n",
      "2266\n"
     ]
    }
   ],
   "source": [
    "from selenium import webdriver\n",
    "from bs4 import BeautifulSoup\n",
    "import pandas as pd\n",
    "import urllib\n",
    "\n",
    "physician_id = ['phy_id']\n",
    "phy_ids = pd.read_excel(\"C:\\\\Users\\\\Aswathi\\\\Desktop\\Physician_ids.xlsx\", names=physician_id)\n",
    "phy_ids = phy_ids.values.tolist()\n",
    "salary = []\n",
    "print(phy_ids)\n",
    "for i in range(len(phy_ids)):\n",
    "    variable = str(phy_ids[i])\n",
    "    variable = variable.replace('[','').replace(']','')\n",
    "    variable = variable.strip()\n",
    "    print(variable)\n",
    "    browser = webdriver.Chrome() #replace with .Firefox(), or with the browser of your choice\n",
    "    browser.get(\"https://openpaymentsdata.cms.gov/physician/%s/summary\" %variable) #navigate to page behind login\n",
    "    innerHTML = browser.execute_script(\"return document.body.innerHTML\") #returns the inner HTML as a string\n",
    "    soup = BeautifulSoup(innerHTML,\"lxml\")\n",
    "    #print(innerHTML)\n",
    "    physician_payment = soup.find(\"div\", { \"class\" : \"PaymentSummary__amount___VNcyt\" })\n",
    "    salary.append(physician_payment.text)\n",
    "    df = pd.DataFrame(salary)\n",
    "    df.to_excel('C:\\\\Users\\\\Aswathi\\\\Desktop\\Physician_ids.xlsx',sheet_name='Salary',header=False,index=False,startrow=2, startcol=1,engine='openpyxl')"
   ]
  },
  {
   "cell_type": "code",
   "execution_count": null,
   "metadata": {},
   "outputs": [],
   "source": []
  },
  {
   "cell_type": "code",
   "execution_count": 13,
   "metadata": {},
   "outputs": [],
   "source": [
    "\n"
   ]
  },
  {
   "cell_type": "code",
   "execution_count": null,
   "metadata": {
    "collapsed": true
   },
   "outputs": [],
   "source": []
  }
 ],
 "metadata": {
  "kernelspec": {
   "display_name": "Python 3",
   "language": "python",
   "name": "python3"
  },
  "language_info": {
   "codemirror_mode": {
    "name": "ipython",
    "version": 3
   },
   "file_extension": ".py",
   "mimetype": "text/x-python",
   "name": "python",
   "nbconvert_exporter": "python",
   "pygments_lexer": "ipython3",
   "version": "3.6.1"
  }
 },
 "nbformat": 4,
 "nbformat_minor": 2
}
