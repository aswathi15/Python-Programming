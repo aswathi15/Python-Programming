{
  "cells": [
    {
      "metadata": {
        "_cell_guid": "ba058891-0e21-47c9-b9a8-7f2885c2cfdc",
        "_uuid": "79cc4157d58c1b37361e5c22d66d67029f4419fd",
        "trusted": false,
        "collapsed": true
      },
      "cell_type": "code",
      "source": "# This Python 3 environment comes with many helpful analytics libraries installed\n# It is defined by the kaggle/python docker image: https://github.com/kaggle/docker-python\n# For example, here's several helpful packages to load in \n\nimport numpy as np # linear algebra\nimport pandas as pd # data processing, CSV file I/O (e.g. pd.read_csv)\nimport matplotlib.pyplot as plt\nimport seaborn as sns\nfrom scipy import stats\n%matplotlib inline\nsns.set(style=\"darkgrid\")\nplt.figure(figsize=(100,100))\n\n\n# Input data files are available in the \"../input/\" directory.\n# For example, running this (by clicking run or pressing Shift+Enter) will list the files in the input directory\n\nfrom subprocess import check_output\nprint(check_output([\"ls\", \"../input\"]).decode(\"utf8\"))\n\n# Any results you write to the current directory are saved as output.",
      "execution_count": null,
      "outputs": []
    },
    {
      "metadata": {
        "_cell_guid": "b7605135-c5bc-422d-825a-b2e04d551547",
        "_uuid": "18c4e9d71b3c65c1cfdc325de62f9d4a951eadcc",
        "trusted": false,
        "collapsed": true
      },
      "cell_type": "code",
      "source": "# Importing dataset for analysis\ndataset = pd.read_csv('../input/2015.csv')\n# Let's describe the data to get a summary statistics of the dataset\ndataset.head()",
      "execution_count": null,
      "outputs": []
    },
    {
      "metadata": {
        "_cell_guid": "09477db7-0cc4-42c1-a198-58a1c84af3be",
        "_uuid": "af8edae9fbb3a1ad35a6e153cb70613ca9200581",
        "trusted": false,
        "collapsed": true
      },
      "cell_type": "code",
      "source": "dataset.info()",
      "execution_count": null,
      "outputs": []
    },
    {
      "metadata": {
        "_cell_guid": "385f3796-0715-4b41-a5ae-6fc79e95d2d0",
        "_uuid": "48159b81591888384c997c3e24872205ce04b9d8",
        "trusted": false,
        "collapsed": true
      },
      "cell_type": "code",
      "source": "dataset.describe()",
      "execution_count": null,
      "outputs": []
    },
    {
      "metadata": {
        "_cell_guid": "6868b3b5-989b-464b-8595-bbc726e267a6",
        "collapsed": true,
        "_uuid": "a3af6f3086a84e5131b766b1988241cb89ab34de",
        "trusted": false
      },
      "cell_type": "code",
      "source": "dataset.columns = [\"Country\",\"Region\",\"Rank\",\"Score\",\"StandardError\",\"GDP\",\"Family\",\"Health\",\"Freedom\",\"Trust\",\"Generosity\",\"Dystopia\"]",
      "execution_count": null,
      "outputs": []
    },
    {
      "metadata": {
        "_cell_guid": "3f452d4e-c1ba-494a-be53-08743bdb5ea4",
        "_uuid": "21ba05c9c4cb333550e4807423b252a668674ac0",
        "trusted": false,
        "collapsed": true
      },
      "cell_type": "code",
      "source": "dataset.head()",
      "execution_count": null,
      "outputs": []
    },
    {
      "metadata": {
        "_cell_guid": "7b2b5281-8c0b-4cee-8f8e-1738e219bca9",
        "_uuid": "bbd47e23e5d5c79432b624615d0f5fbee0d0f6ee",
        "trusted": false,
        "collapsed": true
      },
      "cell_type": "code",
      "source": "sns.lmplot(x='Health' , y='Score',hue='Region',data=dataset,fit_reg=False)",
      "execution_count": null,
      "outputs": []
    },
    {
      "metadata": {
        "_cell_guid": "8aeed9ea-0561-4650-94e8-76cec45dd8c4",
        "_uuid": "2d386a5f6e4797b2b8bb6fd7e49f9398eda636da",
        "trusted": false,
        "collapsed": true
      },
      "cell_type": "code",
      "source": "sns.lmplot(x = \"Health\",y =\"Score\",data = dataset,aspect =1)",
      "execution_count": null,
      "outputs": []
    },
    {
      "metadata": {
        "_cell_guid": "61e50fde-88e9-4924-ad2b-fff3fc46df63",
        "_uuid": "b7a9f6c88d4251a3db2e06d020d32d6b80e85dd3"
      },
      "cell_type": "markdown",
      "source": "We can see that Health and the Happiness Score are linearly related. So let's try to create a Linear Regression Model"
    },
    {
      "metadata": {
        "_cell_guid": "da43f45c-6cfd-46e8-909e-24d5b6add5f3",
        "_uuid": "b4fa3064bcfeba4e4eaa9c06ff7333a12404d41c",
        "trusted": false,
        "collapsed": true
      },
      "cell_type": "code",
      "source": "from sklearn.linear_model import LinearRegression\nfrom sklearn.cross_validation import train_test_split\nfrom sklearn.preprocessing import StandardScaler",
      "execution_count": null,
      "outputs": []
    },
    {
      "metadata": {
        "_cell_guid": "2e13a321-bb97-4cd6-bd05-9252eda8c4b0",
        "collapsed": true,
        "_uuid": "774b940e5ff2db7422874593cc34382bbd8200c3",
        "trusted": false
      },
      "cell_type": "code",
      "source": "X = pd.DataFrame(dataset['Health'])\ny = pd.DataFrame(dataset['Score'])",
      "execution_count": null,
      "outputs": []
    },
    {
      "metadata": {
        "_cell_guid": "556b6c13-a926-4702-9693-c092ea94b482",
        "_uuid": "edd656b5c198955cf22ea04cf6c3bc0c0f459c1b",
        "trusted": false,
        "collapsed": true
      },
      "cell_type": "code",
      "source": "X_train,X_test,y_train,y_test = train_test_split(X,y,random_state = 0, test_size = 0.20 )\nsc_X = StandardScaler()\nX_train = sc_X.fit_transform(X_train)\nX_test = sc_X.transform(X_test)\nsc_y = StandardScaler()\ny_train = sc_y.fit_transform(y_train)\ny_test = sc_y.transform(y_test)\nregressor = LinearRegression()\nregressor.fit(X_train,y_train)\n",
      "execution_count": null,
      "outputs": []
    },
    {
      "metadata": {
        "_cell_guid": "94fa32bb-6ae1-4655-8bb8-19f78492f012",
        "collapsed": true,
        "_uuid": "71794d7c685b387b6647decd8440713cd32cb125",
        "trusted": false
      },
      "cell_type": "code",
      "source": "y_pred = regressor.predict(X_test)\ny_pred = pd.DataFrame(y_pred,columns = [\"Score\"])\n",
      "execution_count": null,
      "outputs": []
    },
    {
      "metadata": {
        "_cell_guid": "dcabfbad-bc18-480c-9609-03c7e2c6f9bb",
        "_uuid": "2bfb3bde3428ab825a1f7abc1997335b2c198cb0",
        "trusted": false,
        "collapsed": true
      },
      "cell_type": "code",
      "source": "#Visualising the training set result\nplt.scatter(X_train,y_train,color=\"red\")\nplt.plot(X_train,regressor.predict(X_train),color=\"Blue\")",
      "execution_count": null,
      "outputs": []
    },
    {
      "metadata": {
        "_cell_guid": "816f03c2-80c0-45e7-91cb-7059b938e5af",
        "_uuid": "5549661597fe24c750cb1ade7695a554db107034",
        "trusted": false,
        "collapsed": true
      },
      "cell_type": "code",
      "source": "#Visualing the Test set\nplt.scatter(X_test,y_test,color=\"red\")\nplt.plot(X_train,regressor.predict(X_train),color=\"Blue\")",
      "execution_count": null,
      "outputs": []
    },
    {
      "metadata": {
        "_cell_guid": "3a8d3097-2334-48bb-b4bb-d96af4895c96",
        "_uuid": "89487964cd64a2b878fc9a1fd61d6931dd86770c",
        "trusted": false,
        "collapsed": true
      },
      "cell_type": "code",
      "source": "rss = (y_pred - y_test)**2\nsum = 0\n\nfor i in range(0,len(rss)):\n    sum = sum + rss.iloc[i,]\nprint(sum)",
      "execution_count": null,
      "outputs": []
    },
    {
      "metadata": {
        "_cell_guid": "8a5870c4-0928-4e0c-8e2f-72d15e1b6894",
        "_uuid": "9d722a2a223d9d32f367d9d93ec64c881e20787a",
        "trusted": false,
        "collapsed": true
      },
      "cell_type": "code",
      "source": "rss_train = (pd.DataFrame(regressor.predict(X_train)) - X_train)**2\nsum_train = 0\n\nfor i in range(0,len(rss_train)):\n    sum_train = sum_train + rss_train.iloc[i,]\nprint(sum_train)",
      "execution_count": null,
      "outputs": []
    },
    {
      "metadata": {
        "_cell_guid": "c84f9f65-3215-4dde-97b7-41b11edf02b9",
        "_uuid": "ef7a97cdea0eca8e172c0801ed98c1993f15c088",
        "trusted": false,
        "collapsed": true
      },
      "cell_type": "code",
      "source": "sum",
      "execution_count": null,
      "outputs": []
    },
    {
      "metadata": {
        "_cell_guid": "eab1e1c3-1642-4fbc-a324-c97effa1a048",
        "_uuid": "ca5190d18e4e34abda6c46d837e8e22ecc337c1c",
        "trusted": false,
        "collapsed": true
      },
      "cell_type": "code",
      "source": "plt.hist(x= 'Health',bins = 20,data = dataset,color='indianred',alpha=0.5,stacked=True)\nplt.hist(x= 'GDP',bins = 20,data = dataset,color='blue',alpha=0.5,stacked=True)",
      "execution_count": null,
      "outputs": []
    },
    {
      "metadata": {
        "_cell_guid": "c36ac11a-f47e-4767-a499-3fed236bdf2e",
        "_uuid": "dd963c288dde03392be50ceba5cfebcd7601e1ec",
        "trusted": false,
        "collapsed": true
      },
      "cell_type": "code",
      "source": "plt.hist(x=\"Score\",data=dataset,bins=20)",
      "execution_count": null,
      "outputs": []
    },
    {
      "metadata": {
        "_cell_guid": "a52e59d1-4e9e-440b-9423-ecd8775520a3",
        "_uuid": "293b68aab7102834675d195847ea54c62863f98d",
        "trusted": false,
        "collapsed": true
      },
      "cell_type": "code",
      "source": "sns.jointplot(x='Health',y='Score',data=dataset,kind='hex')",
      "execution_count": null,
      "outputs": []
    },
    {
      "metadata": {
        "_cell_guid": "a5e108db-5135-4b85-b23b-a4fc360d0513",
        "_uuid": "de8317756693abbc08c6dc154b545922a9aac5e2",
        "trusted": false,
        "collapsed": true
      },
      "cell_type": "code",
      "source": "sns.kdeplot(dataset.Score,dataset.Health,shade=True,bw='silverman',cbar=True)\n#sns.kdeplot(data=dataset['Health'],color='Blue')\n#sns.kdeplot(data=dataset['Dystopia'],color='Black')\n#sns.kdeplot(data=dataset['Freedom'],color='Yellow')",
      "execution_count": null,
      "outputs": []
    },
    {
      "metadata": {
        "_cell_guid": "3b1df91a-b78d-4c2d-be6b-f9d8c1452757",
        "_uuid": "e074f147edf930d0e8327efa330b9f35186bd17f",
        "trusted": false,
        "collapsed": true
      },
      "cell_type": "code",
      "source": "sns.distplot(dataset['Score'],bins=25,rug=True,hist=False)",
      "execution_count": null,
      "outputs": []
    },
    {
      "metadata": {
        "_cell_guid": "2f7a87f8-31c6-4857-ac38-0e49c0caa688",
        "_uuid": "69f9648d4211aa35514b66194e775d59fce3de63",
        "trusted": false,
        "collapsed": true
      },
      "cell_type": "code",
      "source": "fig, ax = plt.subplots()\nax = sns.boxplot(x='Region',y='Dystopia',data=dataset)\nplt.xticks(rotation=90)\n# the size of A4 paper\nfig.set_size_inches(11.7, 8.27)",
      "execution_count": null,
      "outputs": []
    },
    {
      "metadata": {
        "_cell_guid": "1253b007-792b-4b3c-8603-68ae0351885f",
        "_uuid": "00ae253e5f010286f8dad9679a1e9f7aeb5d2786",
        "trusted": false,
        "collapsed": true
      },
      "cell_type": "code",
      "source": "sns.violinplot(x=\"Region\",y=\"Generosity\",data=dataset,inner='stick')\nplt.xticks(rotation=90)",
      "execution_count": null,
      "outputs": []
    },
    {
      "metadata": {
        "_cell_guid": "a5138f49-bd9f-4c48-9ca1-5e2aa1c042a5",
        "_uuid": "1ab6b36792d01dc5d86e32475d1a4f14ec7d2dc8",
        "trusted": false,
        "collapsed": true
      },
      "cell_type": "code",
      "source": "dframe1 = dataset.ix[1:50,['Score','GDP','Health','Dystopia']]",
      "execution_count": null,
      "outputs": []
    },
    {
      "metadata": {
        "_cell_guid": "a3ac6ef6-0c1b-4bf4-b8d9-11f41689dbf8",
        "collapsed": true,
        "_uuid": "29c1a25329f044ab33e77566d66a4860bac09da2",
        "trusted": false
      },
      "cell_type": "code",
      "source": "corr = dframe1.corr()",
      "execution_count": null,
      "outputs": []
    },
    {
      "metadata": {
        "_cell_guid": "6fb98e2b-394b-4a51-bb73-7638c624fc83",
        "_uuid": "cc2a1cd898d6fe3b593fd78f4dcbb6c349adb55d",
        "trusted": false,
        "collapsed": true
      },
      "cell_type": "code",
      "source": "sns.heatmap(data=corr)",
      "execution_count": null,
      "outputs": []
    },
    {
      "metadata": {
        "_cell_guid": "72532187-6cb4-4826-9125-55100b4fc8ae",
        "_uuid": "a2c852c30a7264b1c82327074be2df75b74fb980",
        "trusted": false,
        "collapsed": true
      },
      "cell_type": "code",
      "source": "dataset.head()",
      "execution_count": null,
      "outputs": []
    },
    {
      "metadata": {
        "_cell_guid": "eda6dd31-d4fe-4037-a9db-ff302f248b18",
        "_uuid": "03ec1a28217aca0a01b487f0d08cba46e031d16c",
        "trusted": false,
        "collapsed": true
      },
      "cell_type": "code",
      "source": "sns.lmplot(x=\"GDP\",y=\"Dystopia\",data=dataset,fit_reg=False,hue=\"Region\")",
      "execution_count": null,
      "outputs": []
    },
    {
      "metadata": {
        "_cell_guid": "d085c9ae-6287-4825-81be-8020c065a999",
        "_uuid": "d826710e16d23e05f01b8379e519e99fc8105691",
        "trusted": false,
        "collapsed": true
      },
      "cell_type": "code",
      "source": "sns.lmplot(x=\"GDP\",y=\"Trust\",data=dataset,fit_reg=False,hue=\"Region\")",
      "execution_count": null,
      "outputs": []
    },
    {
      "metadata": {
        "_cell_guid": "3efd84fa-8164-4864-86b5-44ac701e4a5f",
        "collapsed": true,
        "_uuid": "9870de42f2bc74ac7dfa6709601d28fa29e31109",
        "trusted": false
      },
      "cell_type": "code",
      "source": "#Cluster Analysis using K-Means Clustering using GDP and Trust\nX1 = dataset.loc[:,[\"GDP\",\"Trust\"]].values\n",
      "execution_count": null,
      "outputs": []
    },
    {
      "metadata": {
        "_cell_guid": "b02723b6-2768-4dc9-a69d-326655b8a907",
        "_uuid": "52f630fc888a044bf8e21d2435badad26a16c75c",
        "trusted": false,
        "collapsed": true
      },
      "cell_type": "code",
      "source": "#Using the elbow method to find the optimal number of clusters\nfrom sklearn.cluster import KMeans\nwcss =[]\nfor i in range (1,11):\n    kmeans = KMeans(n_clusters=i , init = \"k-means++\", max_iter=300, n_init=10,random_state=0)\n    kmeans.fit(X1)\n    wcss.append(kmeans.inertia_)\nplt.plot(range(1,11),wcss)\nplt.show()",
      "execution_count": null,
      "outputs": []
    },
    {
      "metadata": {
        "_cell_guid": "351c4446-e499-4995-bb01-e5022fe62861",
        "collapsed": true,
        "_uuid": "bb223285bfed68591dfc6fdfd2ad387db33113ef",
        "trusted": false
      },
      "cell_type": "code",
      "source": "#Applying k-means to the dataset with the 4 number of clusters\nkmeans = KMeans(n_clusters=3,init=\"k-means++\",random_state=0)\ny_kmeans = kmeans.fit_predict(X1)",
      "execution_count": null,
      "outputs": []
    },
    {
      "metadata": {
        "_cell_guid": "b233bb9e-7b55-422d-a811-caaa3649f4d9",
        "_uuid": "6d58cb28f07153c108cd48963d887acaf4b9238a",
        "trusted": false,
        "collapsed": true
      },
      "cell_type": "code",
      "source": "print(y_kmeans)",
      "execution_count": null,
      "outputs": []
    },
    {
      "metadata": {
        "_cell_guid": "8a3edc74-902f-4ae3-a8b2-916a220308e0",
        "_uuid": "6c1600b58213226e902bb339628655fb66944749",
        "trusted": false,
        "collapsed": true
      },
      "cell_type": "code",
      "source": "#Visualizing the clusters\nplt.scatter(X1[y_kmeans == 0,0],X1[y_kmeans == 0,1],s = 10, c ='blue',label = 'Medium Happy')\nplt.scatter(X1[y_kmeans == 1,0],X1[y_kmeans == 1,1],s = 10, c ='red',label = 'Very Unhappy')\nplt.scatter(X1[y_kmeans == 2,0],X1[y_kmeans == 2,1],s = 10, c ='green',label = 'Happy')\n#plt.scatter(X1[y_kmeans == 3,0],X1[y_kmeans == 3,1],s = 10, c ='cyan',label = 'Cluster4')\nplt.scatter(kmeans.cluster_centers_[:,0],kmeans.cluster_centers_[:,1], s = 300, c ='Yellow',label = 'Centroids')\nplt.title('Cluster of citizens')\nplt.xlabel('GDP')\t\nplt.ylabel('Trust')\nplt.legend()\nplt.show()",
      "execution_count": null,
      "outputs": []
    },
    {
      "metadata": {
        "_cell_guid": "d0d4ed1c-1b9f-4d1e-bc9d-5b42274eb8cb",
        "_uuid": "e2da3da89e0400b1f5d0509a9ff0531ab7e37f22",
        "trusted": false,
        "collapsed": true
      },
      "cell_type": "code",
      "source": "dataset.head()",
      "execution_count": null,
      "outputs": []
    },
    {
      "metadata": {
        "_cell_guid": "6f70b539-5d03-4a64-ae17-e4ed35452b48",
        "_uuid": "67a9f10033b6d0aa46aec759ff142c62868fe68b",
        "trusted": false,
        "collapsed": true
      },
      "cell_type": "code",
      "source": "Health_Region = pd.DataFrame(dataset.groupby(\"Region\")[\"Health\"].sum())\nHealth_Region.plot(kind=\"bar\")",
      "execution_count": null,
      "outputs": []
    },
    {
      "metadata": {
        "_cell_guid": "32995c37-7a50-4287-baf4-66093a5331d5",
        "collapsed": true,
        "_uuid": "c94d5dd8771f0bf63dbaf350dea16cce9bbad5c7",
        "trusted": false
      },
      "cell_type": "code",
      "source": "",
      "execution_count": null,
      "outputs": []
    },
    {
      "metadata": {
        "_cell_guid": "a34feb9c-934b-4633-94c3-e1578ff2bdcb",
        "collapsed": true,
        "_uuid": "9db4dbe05d033e440446287f1508f54f3dd08957",
        "trusted": false
      },
      "cell_type": "code",
      "source": "",
      "execution_count": null,
      "outputs": []
    },
    {
      "metadata": {
        "_cell_guid": "92da59c7-5c4c-4423-ad40-c898ace9df1a",
        "collapsed": true,
        "_uuid": "828e1cfa39ed715b412a7b3f4fc150d83bf8646c",
        "trusted": false
      },
      "cell_type": "code",
      "source": "",
      "execution_count": null,
      "outputs": []
    }
  ],
  "metadata": {
    "kernelspec": {
      "display_name": "Python 3",
      "language": "python",
      "name": "python3"
    },
    "language_info": {
      "mimetype": "text/x-python",
      "codemirror_mode": {
        "name": "ipython",
        "version": 3
      },
      "version": "3.6.4",
      "nbconvert_exporter": "python",
      "name": "python",
      "pygments_lexer": "ipython3",
      "file_extension": ".py"
    }
  },
  "nbformat": 4,
  "nbformat_minor": 1
}