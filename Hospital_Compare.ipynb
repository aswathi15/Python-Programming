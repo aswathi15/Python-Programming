{
  "cells": [
    {
      "metadata": {
        "_cell_guid": "ecb5e6a0-7a6b-44d0-a73b-1e99815cb845",
        "_uuid": "5d48f735f219a309562559f4fe344d0d71159ac2"
      },
      "cell_type": "markdown",
      "source": "Hospital Compare is a consumer-oriented website that provides information on how well hospitals provide recommended care to their patients. \nHospital Compare allows consumers to select multiple hospitals and directly compare performance measure information related to heart attack, heart failure, pneumonia, surgery and other conditions. These results are organized by:\n*  1. General information\n* 1. Survey of patients' experiences\n* 1. Timely & effective care\n* 1. Complications\n* 1. Readmissions & deaths\n* 1. Use of medical imaging\n* 1. Payment & value of care\nHospital Compare data contains information on over 100 measures and more than 4000 hospitals.\nThe method assigns each hospital between 1 and 5 stars on the basis of the hospitals overall performance on selected measures. \n"
    },
    {
      "metadata": {
        "collapsed": true,
        "_cell_guid": "179c4973-d48d-4d9b-bf3f-c2ef1b773566",
        "_uuid": "a9d4a414d4ac32f71feb373256716ae013708209",
        "trusted": false
      },
      "cell_type": "code",
      "source": "# This Python 3 environment comes with many helpful analytics libraries installed\n# It is defined by the kaggle/python docker image: https://github.com/kaggle/docker-python\n# For example, here's several helpful packages to load in \n\nimport numpy as np # linear algebra\nimport pandas as pd # data processing, CSV file I/O (e.g. pd.read_csv)\nimport seaborn as sns\nimport matplotlib.pyplot as plt\nsns.set(style=\"darkgrid\")\n# Input data files are available in the \"../input/\" directory.\n# For example, running this (by clicking run or pressing Shift+Enter) will list the files in the input directory\n\nfrom subprocess import check_output\nprint(check_output([\"ls\", \"../input\"]).decode(\"utf8\"))\n\n# Any results you write to the current directory are saved as output.",
      "execution_count": null,
      "outputs": []
    },
    {
      "metadata": {
        "collapsed": true,
        "_cell_guid": "8086d9c7-42ba-4fd2-8c50-c15ce4c9f166",
        "_uuid": "fd8b6c5b51002617e42261534fd2ae8a654c80e5",
        "trusted": false
      },
      "cell_type": "code",
      "source": "dataset = pd.read_csv('../input/HospInfo.csv')\ndataset.head()",
      "execution_count": null,
      "outputs": []
    },
    {
      "metadata": {
        "_cell_guid": "368668a4-272a-490f-a603-03eab83ef663",
        "_uuid": "94d176be0b99b1ef2f9108ea2c9a2082d20ad240"
      },
      "cell_type": "markdown",
      "source": "**From the below information, we can see that there are a lot of missing values for the footnote measure and thus we can get rid of those columns**"
    },
    {
      "metadata": {
        "collapsed": true,
        "_cell_guid": "c22014bd-72cc-444e-89be-4d2898c3cb60",
        "_uuid": "482ae9a41f89f787fb227d8e9ef96ddc17412df8",
        "trusted": false
      },
      "cell_type": "code",
      "source": "dataset.info()",
      "execution_count": null,
      "outputs": []
    },
    {
      "metadata": {
        "collapsed": true,
        "_cell_guid": "902f49b6-7902-435d-a0b0-9a8c7b25c1a5",
        "_uuid": "d5dbb4680dd5f7d165b12e39687cc29b0b83b1db",
        "trusted": false
      },
      "cell_type": "code",
      "source": "dataset.drop(['Hospital overall rating footnote','Mortality national comparison footnote','Safety of care national comparison footnote','Readmission national comparison footnote','Patient experience national comparison footnote','Effectiveness of care national comparison footnote','Timeliness of care national comparison footnote','Efficient use of medical imaging national comparison footnote'],axis=1,inplace=True)",
      "execution_count": null,
      "outputs": []
    },
    {
      "metadata": {
        "collapsed": true,
        "_cell_guid": "5e51888d-7199-4384-a588-61b6d5f8d0da",
        "_uuid": "eee6e6742a15c3a9b01981f2cf6a401d77de435a",
        "trusted": false
      },
      "cell_type": "code",
      "source": "dataset.info()",
      "execution_count": null,
      "outputs": []
    },
    {
      "metadata": {
        "_cell_guid": "72301385-f751-4537-a67c-5d104b4f5dc1",
        "_uuid": "77d99bdc84a8be4a2e7684b273cf22d7f2232a84"
      },
      "cell_type": "markdown",
      "source": "**Lets check out the total number of hospitals in each state**"
    },
    {
      "metadata": {
        "collapsed": true,
        "_cell_guid": "d6fc2ffc-2dbd-45e2-bfde-a1d7b59d47cb",
        "_uuid": "18dff37e2fb505a6fd06152b2bee4ddc07a1fd2e",
        "trusted": false
      },
      "cell_type": "code",
      "source": "Total_state = pd.value_counts(dataset['State'])\nTotal_state = pd.DataFrame(Total_state)\nTotal_state = Total_state.reset_index()\n",
      "execution_count": null,
      "outputs": []
    },
    {
      "metadata": {
        "collapsed": true,
        "_cell_guid": "8bddf418-061b-406f-bcd8-f882b55dce38",
        "_uuid": "3717d0faeb6ebaf41d21288ca0d9945b4955fb82",
        "trusted": false
      },
      "cell_type": "code",
      "source": "Total_state.columns = ['State', 'Number of Hospitals']",
      "execution_count": null,
      "outputs": []
    },
    {
      "metadata": {
        "collapsed": true,
        "_cell_guid": "e412fff5-dcaf-4b9f-a8fb-3c0b76b98163",
        "_uuid": "f563d6917fd6337140022750da57d928aa016d31",
        "trusted": false
      },
      "cell_type": "code",
      "source": "dims = (10, 10)\nfig, ax = plt.subplots(figsize=dims)\nax = sns.barplot(x = 'Number of Hospitals', y = 'State', data = Total_state)\nax.set(xlabel = 'Number of Hospitals', ylabel = 'States')\nax.set_title('Number of Hospitals per State')",
      "execution_count": null,
      "outputs": []
    },
    {
      "metadata": {
        "_cell_guid": "1e52f160-5386-460e-b245-02deb760007a",
        "_uuid": "94bdde78a5cc36540795788c9d53126a89e97f61"
      },
      "cell_type": "markdown",
      "source": "**From the above barplot, we can see that Texas has the maximum number of hospitals along with other top states in the Top 10! We can notice that American Samoa (AS), District of Columbia(DC), Guam(GU), Virgin Islands(VI), Northern Mariana Islands(MP) have very low number of hospitals and thus the state of healthcare in these states must be very poor!**"
    },
    {
      "metadata": {
        "_cell_guid": "c31c4c4b-06e0-4096-9a28-1e8d4aeff49b",
        "_uuid": "3a3392a9cc949992fd0471254f922337ff4a9332"
      },
      "cell_type": "markdown",
      "source": "** Now Let us have a look at what are the different types of hospitals and their count in USA**"
    },
    {
      "metadata": {
        "collapsed": true,
        "_cell_guid": "444380ea-bfb7-4358-983c-5b66008117a5",
        "_uuid": "6cf442eff280958f181b7c9772cf6a55e2c68d51",
        "trusted": false
      },
      "cell_type": "code",
      "source": "Hospital_Type_df = pd.value_counts(dataset['Hospital Type'])\nHospital_Type_df = pd.DataFrame(Hospital_Type_df)\nHospital_Type_df = Hospital_Type_df.reset_index()\nHospital_Type_df.columns = ['Hospital Type', 'Number of Hospitals']",
      "execution_count": null,
      "outputs": []
    },
    {
      "metadata": {
        "collapsed": true,
        "_cell_guid": "562af2a8-3d94-4130-a908-5b6a2f1d1ddc",
        "_uuid": "1b1b37ced686d6685ee698cc2348dd848884f160",
        "trusted": false
      },
      "cell_type": "code",
      "source": "ax = sns.barplot(x = 'Hospital Type', y= 'Number of Hospitals', data = Hospital_Type_df)\nax.set(xlabel = 'Type of Hospital', ylabel = 'Number of Hospitals')\nax.set_title('Count of the different Types of Hospitals(Acute/Critical/Childrens)')",
      "execution_count": null,
      "outputs": []
    },
    {
      "metadata": {
        "_cell_guid": "bf39386d-634a-4b91-b947-876531ad2bbb",
        "_uuid": "90451053af5ad8b549ff1f56d38c8fcf7ab1b016"
      },
      "cell_type": "markdown",
      "source": "From the above barplot, we can see that USA has Acute Care Hospitals in maximum number as compared to Critical Access and Children's Hospital. "
    },
    {
      "metadata": {
        "_cell_guid": "13f393e6-b238-4140-8acc-84289335145c",
        "_uuid": "4dd74886158444f26a4f8b47ce83b4ea9736581e"
      },
      "cell_type": "markdown",
      "source": "**It would be interesting to find out who has the maximum ownerships on the hospitals in USA? Does the government own majority of the hospitals or are they owned by Private organizations! Let's find out!**"
    },
    {
      "metadata": {
        "collapsed": true,
        "_cell_guid": "8c65e4da-fc96-4170-9610-ec3ee4b74c3a",
        "_uuid": "efa59154811e3bbb0494bcd760215f7c0f8cd731",
        "trusted": false
      },
      "cell_type": "code",
      "source": "Hospital_owner = pd.value_counts(dataset['Hospital Ownership'])\nHospital_owner = pd.DataFrame(Hospital_owner)\nHospital_owner = Hospital_owner.reset_index()\nHospital_owner.columns = ['Hospital Ownership', 'Number of Hospitals']",
      "execution_count": null,
      "outputs": []
    },
    {
      "metadata": {
        "collapsed": true,
        "_cell_guid": "da1ae0d9-5fdf-4dd2-a9bd-85d28d2c04f6",
        "_uuid": "83529647facc64dfc5f7fe538c8d24feae13d869",
        "trusted": false
      },
      "cell_type": "code",
      "source": "dims = (10, 10)\nfig, ax = plt.subplots(figsize=dims)\nax = sns.barplot(y = 'Hospital Ownership', x= 'Number of Hospitals', data = Hospital_owner)\nax.set(xlabel = 'Hospital Ownership', ylabel = 'Number of Hospitals')\nax.set_title('Count of the different Types of Hospital Ownership')",
      "execution_count": null,
      "outputs": []
    },
    {
      "metadata": {
        "_cell_guid": "7378fbe2-2572-41b6-9698-239170715130",
        "_uuid": "f88406387076e2e292978063e08e7232b76c8b00"
      },
      "cell_type": "markdown",
      "source": "**From the above graph , we can see that majority of the hospitals i.e more than half of the hospitals in the US is owned by voluntary non-profit organizations. We can say, that around 800 hospitals are owned privately!**"
    },
    {
      "metadata": {
        "_cell_guid": "814126a9-d60a-4168-b4e5-9a5d08f2682d",
        "_uuid": "aebed9d4d6b971cbea6bee2bd762ebed1b59f7f9"
      },
      "cell_type": "markdown",
      "source": "**Next, I am curious to know what is the average rating given to the hospitals ? Are there more 1-star hospital which means that the healthcare facility is very poor! ORR are there more number of 5-star rated hospitals, which means that the healthcare facility is excellent (which is doubt) ! Let's check out. **"
    },
    {
      "metadata": {
        "collapsed": true,
        "_cell_guid": "b173dbab-97ed-4acc-823d-46af7742e7fc",
        "_uuid": "d98b8bdf71e5021b9a160e57e45d5f7679fa5c96",
        "trusted": false
      },
      "cell_type": "code",
      "source": "dataset['Hospital overall rating'].unique()",
      "execution_count": null,
      "outputs": []
    },
    {
      "metadata": {
        "_cell_guid": "04b27083-bf20-496c-b4dd-13e5fbce25e8",
        "_uuid": "e22a37f65affa0620492364db46a38c3bc37cebe"
      },
      "cell_type": "markdown",
      "source": "**We can see that there are few hospitals whose ratings are \"Not Available\". We can remove those rows from our new dataset for Hospital rating before counting the number of hospitals for each rating** "
    },
    {
      "metadata": {
        "collapsed": true,
        "_cell_guid": "aa99c742-a4d2-4b57-ae42-f2bcd06e788c",
        "_uuid": "544d7db1159a995d9f5375a953df8ea16b3e94ce",
        "trusted": false
      },
      "cell_type": "code",
      "source": "Hospital_rating = dataset.drop(dataset[dataset['Hospital overall rating']=='Not Available'].index)\nHospital_rating['Hospital overall rating'].unique()",
      "execution_count": null,
      "outputs": []
    },
    {
      "metadata": {
        "collapsed": true,
        "_cell_guid": "771b68dc-74f2-44ca-906b-e61d17f0ce9f",
        "_uuid": "524a5aab8b66ea1f7953c864c573b24a8543ae77",
        "trusted": false
      },
      "cell_type": "code",
      "source": "Hospital_rating = pd.value_counts(Hospital_rating['Hospital overall rating'])\nHospital_rating = pd.DataFrame(Hospital_rating)\nHospital_rating = Hospital_rating.reset_index()\nHospital_rating.columns = ['Hospital Rating', 'Number of Hospitals']",
      "execution_count": null,
      "outputs": []
    },
    {
      "metadata": {
        "collapsed": true,
        "_cell_guid": "6566a275-2e08-44c8-9274-ae0561957c9a",
        "_uuid": "b2a9505de2f53bf5c7b5a75fd6757ed0e5f3783c",
        "trusted": false
      },
      "cell_type": "code",
      "source": "dims = (10, 5)\nfig, ax = plt.subplots(figsize=dims)\nax = sns.barplot(x = 'Hospital Rating', y = 'Number of Hospitals', palette=\"BuGn_d\",data = Hospital_rating)\nax.set(xlabel = 'Hospital Rating', ylabel = 'Number of Hospitals')\n",
      "execution_count": null,
      "outputs": []
    },
    {
      "metadata": {
        "_cell_guid": "5cd699d9-4ac6-4e77-94ea-4e43488394cd",
        "_uuid": "04425e7a296425be4dc3f431826e08483f091f96"
      },
      "cell_type": "markdown",
      "source": "**Here, we can see that there are majority hospitals with 3-star rating. There are very little hospitals with extreme ratings i.e 1 or 5**"
    },
    {
      "metadata": {
        "_cell_guid": "779baeee-7330-4a7e-b64c-e33b9f54ca5a",
        "_uuid": "2bbef2d7a39c16da603b4687ba4ac2cbbd36d574"
      },
      "cell_type": "markdown",
      "source": ""
    }
  ],
  "metadata": {
    "language_info": {
      "pygments_lexer": "ipython3",
      "nbconvert_exporter": "python",
      "mimetype": "text/x-python",
      "name": "python",
      "codemirror_mode": {
        "name": "ipython",
        "version": 3
      },
      "file_extension": ".py",
      "version": "3.6.4"
    },
    "kernelspec": {
      "display_name": "Python 3",
      "language": "python",
      "name": "python3"
    }
  },
  "nbformat": 4,
  "nbformat_minor": 1
}