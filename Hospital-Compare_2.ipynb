{
 "cells": [
  {
   "cell_type": "code",
   "execution_count": 2,
   "metadata": {
    "collapsed": true
   },
   "outputs": [],
   "source": [
    "import pandas as pd\n",
    "import numpy as np\n",
    "import seaborn as sns\n",
    "import matplotlib.pyplot as plt"
   ]
  },
  {
   "cell_type": "code",
   "execution_count": 6,
   "metadata": {
    "collapsed": true
   },
   "outputs": [],
   "source": [
    "fig=plt.figure(figsize=(200, 200), dpi= 80, facecolor='w', edgecolor='k')"
   ]
  },
  {
   "cell_type": "code",
   "execution_count": 7,
   "metadata": {},
   "outputs": [],
   "source": [
    "# read the state excel, which has the states and their corresponding measures and their national rate comparison\n",
    "HospState = pd.read_excel(\"C://Users//Aswathi//Desktop//Hospital Compare_State.xlsx\")"
   ]
  },
  {
   "cell_type": "code",
   "execution_count": 8,
   "metadata": {},
   "outputs": [],
   "source": [
    "#read the main Hospital Compare file\n",
    "HospComp = pd.read_excel(\"C://Users//Aswathi//Desktop//Hospital Compare_latest.xlsx\")"
   ]
  },
  {
   "cell_type": "code",
   "execution_count": 10,
   "metadata": {},
   "outputs": [],
   "source": [
    "#read the population by State file\n",
    "PopState = pd.read_excel(\"C://Users//Aswathi//Desktop//PopulationState.xlsx\")"
   ]
  },
  {
   "cell_type": "code",
   "execution_count": 11,
   "metadata": {
    "collapsed": true
   },
   "outputs": [],
   "source": [
    "#read the Hospital Compare National File\n",
    "HospNational = pd.read_excel(\"C://Users//Aswathi//Desktop//Hospital Compare_National.xlsx\")"
   ]
  },
  {
   "cell_type": "code",
   "execution_count": 12,
   "metadata": {
    "collapsed": true
   },
   "outputs": [],
   "source": [
    "HospState = HospState.fillna(value=0)"
   ]
  },
  {
   "cell_type": "code",
   "execution_count": 14,
   "metadata": {},
   "outputs": [
    {
     "data": {
      "text/html": [
       "<div>\n",
       "<style>\n",
       "    .dataframe thead tr:only-child th {\n",
       "        text-align: right;\n",
       "    }\n",
       "\n",
       "    .dataframe thead th {\n",
       "        text-align: left;\n",
       "    }\n",
       "\n",
       "    .dataframe tbody tr th {\n",
       "        vertical-align: top;\n",
       "    }\n",
       "</style>\n",
       "<table border=\"1\" class=\"dataframe\">\n",
       "  <thead>\n",
       "    <tr style=\"text-align: right;\">\n",
       "      <th></th>\n",
       "      <th>State</th>\n",
       "      <th>Measure Name</th>\n",
       "      <th>Measure ID</th>\n",
       "      <th>Number of Hospitals Worse</th>\n",
       "      <th>Number of Hospitals Same</th>\n",
       "      <th>Number of Hospitals Better</th>\n",
       "      <th>Number of Hospitals Too Few</th>\n",
       "      <th>Footnote</th>\n",
       "      <th>Measure Start Date</th>\n",
       "      <th>Measure End Date</th>\n",
       "    </tr>\n",
       "  </thead>\n",
       "  <tbody>\n",
       "    <tr>\n",
       "      <th>0</th>\n",
       "      <td>AK</td>\n",
       "      <td>Acute Myocardial Infarction (AMI) 30-Day Morta...</td>\n",
       "      <td>MORT_30_AMI</td>\n",
       "      <td>0.0</td>\n",
       "      <td>6.0</td>\n",
       "      <td>0.0</td>\n",
       "      <td>12.0</td>\n",
       "      <td>20 - State and national averages do not includ...</td>\n",
       "      <td>2013-07-01</td>\n",
       "      <td>2016-06-30</td>\n",
       "    </tr>\n",
       "    <tr>\n",
       "      <th>1</th>\n",
       "      <td>AL</td>\n",
       "      <td>Acute Myocardial Infarction (AMI) 30-Day Morta...</td>\n",
       "      <td>MORT_30_AMI</td>\n",
       "      <td>2.0</td>\n",
       "      <td>39.0</td>\n",
       "      <td>0.0</td>\n",
       "      <td>45.0</td>\n",
       "      <td>20 - State and national averages do not includ...</td>\n",
       "      <td>2013-07-01</td>\n",
       "      <td>2016-06-30</td>\n",
       "    </tr>\n",
       "    <tr>\n",
       "      <th>2</th>\n",
       "      <td>AR</td>\n",
       "      <td>Acute Myocardial Infarction (AMI) 30-Day Morta...</td>\n",
       "      <td>MORT_30_AMI</td>\n",
       "      <td>1.0</td>\n",
       "      <td>24.0</td>\n",
       "      <td>0.0</td>\n",
       "      <td>46.0</td>\n",
       "      <td>20 - State and national averages do not includ...</td>\n",
       "      <td>2013-07-01</td>\n",
       "      <td>2016-06-30</td>\n",
       "    </tr>\n",
       "    <tr>\n",
       "      <th>3</th>\n",
       "      <td>AS</td>\n",
       "      <td>Acute Myocardial Infarction (AMI) 30-Day Morta...</td>\n",
       "      <td>MORT_30_AMI</td>\n",
       "      <td>0.0</td>\n",
       "      <td>0.0</td>\n",
       "      <td>0.0</td>\n",
       "      <td>1.0</td>\n",
       "      <td>20 - State and national averages do not includ...</td>\n",
       "      <td>2013-07-01</td>\n",
       "      <td>2016-06-30</td>\n",
       "    </tr>\n",
       "    <tr>\n",
       "      <th>4</th>\n",
       "      <td>AZ</td>\n",
       "      <td>Acute Myocardial Infarction (AMI) 30-Day Morta...</td>\n",
       "      <td>MORT_30_AMI</td>\n",
       "      <td>0.0</td>\n",
       "      <td>45.0</td>\n",
       "      <td>1.0</td>\n",
       "      <td>21.0</td>\n",
       "      <td>20 - State and national averages do not includ...</td>\n",
       "      <td>2013-07-01</td>\n",
       "      <td>2016-06-30</td>\n",
       "    </tr>\n",
       "  </tbody>\n",
       "</table>\n",
       "</div>"
      ],
      "text/plain": [
       "  State                                       Measure Name   Measure ID  \\\n",
       "0    AK  Acute Myocardial Infarction (AMI) 30-Day Morta...  MORT_30_AMI   \n",
       "1    AL  Acute Myocardial Infarction (AMI) 30-Day Morta...  MORT_30_AMI   \n",
       "2    AR  Acute Myocardial Infarction (AMI) 30-Day Morta...  MORT_30_AMI   \n",
       "3    AS  Acute Myocardial Infarction (AMI) 30-Day Morta...  MORT_30_AMI   \n",
       "4    AZ  Acute Myocardial Infarction (AMI) 30-Day Morta...  MORT_30_AMI   \n",
       "\n",
       "   Number of Hospitals Worse  Number of Hospitals Same  \\\n",
       "0                        0.0                       6.0   \n",
       "1                        2.0                      39.0   \n",
       "2                        1.0                      24.0   \n",
       "3                        0.0                       0.0   \n",
       "4                        0.0                      45.0   \n",
       "\n",
       "   Number of Hospitals Better  Number of Hospitals Too Few  \\\n",
       "0                         0.0                         12.0   \n",
       "1                         0.0                         45.0   \n",
       "2                         0.0                         46.0   \n",
       "3                         0.0                          1.0   \n",
       "4                         1.0                         21.0   \n",
       "\n",
       "                                            Footnote Measure Start Date  \\\n",
       "0  20 - State and national averages do not includ...         2013-07-01   \n",
       "1  20 - State and national averages do not includ...         2013-07-01   \n",
       "2  20 - State and national averages do not includ...         2013-07-01   \n",
       "3  20 - State and national averages do not includ...         2013-07-01   \n",
       "4  20 - State and national averages do not includ...         2013-07-01   \n",
       "\n",
       "  Measure End Date  \n",
       "0       2016-06-30  \n",
       "1       2016-06-30  \n",
       "2       2016-06-30  \n",
       "3       2016-06-30  \n",
       "4       2016-06-30  "
      ]
     },
     "execution_count": 14,
     "metadata": {},
     "output_type": "execute_result"
    }
   ],
   "source": [
    "HospState.head(5)"
   ]
  },
  {
   "cell_type": "code",
   "execution_count": 15,
   "metadata": {
    "collapsed": true
   },
   "outputs": [],
   "source": [
    "#filter by PSI indicators\n",
    "HospState_PSI = HospState.loc[HospState['Measure ID'].isin(['PSI_90_SAFETY','PSI_6_IAT_PTX','PSI_12_POSTOP_PULMEMB_DVT',\n",
    "                                                           'PSI_14_POSTOP_DEHIS','PSI_15_ACC_LAC','PSI_4_SURG_COMP',\n",
    "                                                           'PSI_3_ULCER','PSI_8_POST_HIP','PSI_13_POST_SEPSIS','PSI_9_POST_HEM','PSI_10_POST_KIDNEY',\n",
    "                                                           'PSI_11_POST_RESP'])]"
   ]
  },
  {
   "cell_type": "code",
   "execution_count": 16,
   "metadata": {
    "collapsed": true
   },
   "outputs": [],
   "source": [
    "#filter by Mortality Measures\n",
    "HospState_Mortality = HospState.loc[HospState['Measure ID'].isin(['MORT_30_AMI','MORT_30_HF','MORT_30_PN','MORT_30_COPD','MORT_30_STK','MORT_30_CABG'])]"
   ]
  },
  {
   "cell_type": "code",
   "execution_count": 17,
   "metadata": {},
   "outputs": [
    {
     "data": {
      "text/html": [
       "<div>\n",
       "<style>\n",
       "    .dataframe thead tr:only-child th {\n",
       "        text-align: right;\n",
       "    }\n",
       "\n",
       "    .dataframe thead th {\n",
       "        text-align: left;\n",
       "    }\n",
       "\n",
       "    .dataframe tbody tr th {\n",
       "        vertical-align: top;\n",
       "    }\n",
       "</style>\n",
       "<table border=\"1\" class=\"dataframe\">\n",
       "  <thead>\n",
       "    <tr style=\"text-align: right;\">\n",
       "      <th></th>\n",
       "      <th>State</th>\n",
       "      <th>Measure Name</th>\n",
       "      <th>Measure ID</th>\n",
       "      <th>Number of Hospitals Worse</th>\n",
       "      <th>Number of Hospitals Same</th>\n",
       "      <th>Number of Hospitals Better</th>\n",
       "      <th>Number of Hospitals Too Few</th>\n",
       "      <th>Footnote</th>\n",
       "      <th>Measure Start Date</th>\n",
       "      <th>Measure End Date</th>\n",
       "    </tr>\n",
       "  </thead>\n",
       "  <tbody>\n",
       "    <tr>\n",
       "      <th>0</th>\n",
       "      <td>AK</td>\n",
       "      <td>Acute Myocardial Infarction (AMI) 30-Day Morta...</td>\n",
       "      <td>MORT_30_AMI</td>\n",
       "      <td>0.0</td>\n",
       "      <td>6.0</td>\n",
       "      <td>0.0</td>\n",
       "      <td>12.0</td>\n",
       "      <td>20 - State and national averages do not includ...</td>\n",
       "      <td>2013-07-01</td>\n",
       "      <td>2016-06-30</td>\n",
       "    </tr>\n",
       "    <tr>\n",
       "      <th>1</th>\n",
       "      <td>AL</td>\n",
       "      <td>Acute Myocardial Infarction (AMI) 30-Day Morta...</td>\n",
       "      <td>MORT_30_AMI</td>\n",
       "      <td>2.0</td>\n",
       "      <td>39.0</td>\n",
       "      <td>0.0</td>\n",
       "      <td>45.0</td>\n",
       "      <td>20 - State and national averages do not includ...</td>\n",
       "      <td>2013-07-01</td>\n",
       "      <td>2016-06-30</td>\n",
       "    </tr>\n",
       "    <tr>\n",
       "      <th>2</th>\n",
       "      <td>AR</td>\n",
       "      <td>Acute Myocardial Infarction (AMI) 30-Day Morta...</td>\n",
       "      <td>MORT_30_AMI</td>\n",
       "      <td>1.0</td>\n",
       "      <td>24.0</td>\n",
       "      <td>0.0</td>\n",
       "      <td>46.0</td>\n",
       "      <td>20 - State and national averages do not includ...</td>\n",
       "      <td>2013-07-01</td>\n",
       "      <td>2016-06-30</td>\n",
       "    </tr>\n",
       "    <tr>\n",
       "      <th>3</th>\n",
       "      <td>AS</td>\n",
       "      <td>Acute Myocardial Infarction (AMI) 30-Day Morta...</td>\n",
       "      <td>MORT_30_AMI</td>\n",
       "      <td>0.0</td>\n",
       "      <td>0.0</td>\n",
       "      <td>0.0</td>\n",
       "      <td>1.0</td>\n",
       "      <td>20 - State and national averages do not includ...</td>\n",
       "      <td>2013-07-01</td>\n",
       "      <td>2016-06-30</td>\n",
       "    </tr>\n",
       "    <tr>\n",
       "      <th>4</th>\n",
       "      <td>AZ</td>\n",
       "      <td>Acute Myocardial Infarction (AMI) 30-Day Morta...</td>\n",
       "      <td>MORT_30_AMI</td>\n",
       "      <td>0.0</td>\n",
       "      <td>45.0</td>\n",
       "      <td>1.0</td>\n",
       "      <td>21.0</td>\n",
       "      <td>20 - State and national averages do not includ...</td>\n",
       "      <td>2013-07-01</td>\n",
       "      <td>2016-06-30</td>\n",
       "    </tr>\n",
       "  </tbody>\n",
       "</table>\n",
       "</div>"
      ],
      "text/plain": [
       "  State                                       Measure Name   Measure ID  \\\n",
       "0    AK  Acute Myocardial Infarction (AMI) 30-Day Morta...  MORT_30_AMI   \n",
       "1    AL  Acute Myocardial Infarction (AMI) 30-Day Morta...  MORT_30_AMI   \n",
       "2    AR  Acute Myocardial Infarction (AMI) 30-Day Morta...  MORT_30_AMI   \n",
       "3    AS  Acute Myocardial Infarction (AMI) 30-Day Morta...  MORT_30_AMI   \n",
       "4    AZ  Acute Myocardial Infarction (AMI) 30-Day Morta...  MORT_30_AMI   \n",
       "\n",
       "   Number of Hospitals Worse  Number of Hospitals Same  \\\n",
       "0                        0.0                       6.0   \n",
       "1                        2.0                      39.0   \n",
       "2                        1.0                      24.0   \n",
       "3                        0.0                       0.0   \n",
       "4                        0.0                      45.0   \n",
       "\n",
       "   Number of Hospitals Better  Number of Hospitals Too Few  \\\n",
       "0                         0.0                         12.0   \n",
       "1                         0.0                         45.0   \n",
       "2                         0.0                         46.0   \n",
       "3                         0.0                          1.0   \n",
       "4                         1.0                         21.0   \n",
       "\n",
       "                                            Footnote Measure Start Date  \\\n",
       "0  20 - State and national averages do not includ...         2013-07-01   \n",
       "1  20 - State and national averages do not includ...         2013-07-01   \n",
       "2  20 - State and national averages do not includ...         2013-07-01   \n",
       "3  20 - State and national averages do not includ...         2013-07-01   \n",
       "4  20 - State and national averages do not includ...         2013-07-01   \n",
       "\n",
       "  Measure End Date  \n",
       "0       2016-06-30  \n",
       "1       2016-06-30  \n",
       "2       2016-06-30  \n",
       "3       2016-06-30  \n",
       "4       2016-06-30  "
      ]
     },
     "execution_count": 17,
     "metadata": {},
     "output_type": "execute_result"
    }
   ],
   "source": [
    "HospState_Mortality.head(5)"
   ]
  },
  {
   "cell_type": "code",
   "execution_count": 19,
   "metadata": {},
   "outputs": [
    {
     "data": {
      "text/html": [
       "<div>\n",
       "<style>\n",
       "    .dataframe thead tr:only-child th {\n",
       "        text-align: right;\n",
       "    }\n",
       "\n",
       "    .dataframe thead th {\n",
       "        text-align: left;\n",
       "    }\n",
       "\n",
       "    .dataframe tbody tr th {\n",
       "        vertical-align: top;\n",
       "    }\n",
       "</style>\n",
       "<table border=\"1\" class=\"dataframe\">\n",
       "  <thead>\n",
       "    <tr style=\"text-align: right;\">\n",
       "      <th></th>\n",
       "      <th>State</th>\n",
       "      <th>Measure Name</th>\n",
       "      <th>Measure ID</th>\n",
       "      <th>Number of Hospitals Worse</th>\n",
       "      <th>Number of Hospitals Same</th>\n",
       "      <th>Number of Hospitals Better</th>\n",
       "      <th>Number of Hospitals Too Few</th>\n",
       "      <th>Footnote</th>\n",
       "      <th>Measure Start Date</th>\n",
       "      <th>Measure End Date</th>\n",
       "    </tr>\n",
       "  </thead>\n",
       "  <tbody>\n",
       "    <tr>\n",
       "      <th>392</th>\n",
       "      <td>AK</td>\n",
       "      <td>Serious complications</td>\n",
       "      <td>PSI_90_SAFETY</td>\n",
       "      <td>0.0</td>\n",
       "      <td>9.0</td>\n",
       "      <td>0.0</td>\n",
       "      <td>0.0</td>\n",
       "      <td>20 - State and national averages do not includ...</td>\n",
       "      <td>2014-07-01</td>\n",
       "      <td>2015-09-30</td>\n",
       "    </tr>\n",
       "    <tr>\n",
       "      <th>393</th>\n",
       "      <td>AL</td>\n",
       "      <td>Serious complications</td>\n",
       "      <td>PSI_90_SAFETY</td>\n",
       "      <td>1.0</td>\n",
       "      <td>82.0</td>\n",
       "      <td>0.0</td>\n",
       "      <td>0.0</td>\n",
       "      <td>20 - State and national averages do not includ...</td>\n",
       "      <td>2014-07-01</td>\n",
       "      <td>2015-09-30</td>\n",
       "    </tr>\n",
       "    <tr>\n",
       "      <th>394</th>\n",
       "      <td>AR</td>\n",
       "      <td>Serious complications</td>\n",
       "      <td>PSI_90_SAFETY</td>\n",
       "      <td>3.0</td>\n",
       "      <td>41.0</td>\n",
       "      <td>1.0</td>\n",
       "      <td>0.0</td>\n",
       "      <td>20 - State and national averages do not includ...</td>\n",
       "      <td>2014-07-01</td>\n",
       "      <td>2015-09-30</td>\n",
       "    </tr>\n",
       "    <tr>\n",
       "      <th>395</th>\n",
       "      <td>AS</td>\n",
       "      <td>Serious complications</td>\n",
       "      <td>PSI_90_SAFETY</td>\n",
       "      <td>0.0</td>\n",
       "      <td>0.0</td>\n",
       "      <td>0.0</td>\n",
       "      <td>0.0</td>\n",
       "      <td>5 - Results are NaN for this reporting period....</td>\n",
       "      <td>2014-07-01</td>\n",
       "      <td>2015-09-30</td>\n",
       "    </tr>\n",
       "    <tr>\n",
       "      <th>396</th>\n",
       "      <td>AZ</td>\n",
       "      <td>Serious complications</td>\n",
       "      <td>PSI_90_SAFETY</td>\n",
       "      <td>1.0</td>\n",
       "      <td>62.0</td>\n",
       "      <td>1.0</td>\n",
       "      <td>0.0</td>\n",
       "      <td>20 - State and national averages do not includ...</td>\n",
       "      <td>2014-07-01</td>\n",
       "      <td>2015-09-30</td>\n",
       "    </tr>\n",
       "  </tbody>\n",
       "</table>\n",
       "</div>"
      ],
      "text/plain": [
       "    State           Measure Name     Measure ID  Number of Hospitals Worse  \\\n",
       "392    AK  Serious complications  PSI_90_SAFETY                        0.0   \n",
       "393    AL  Serious complications  PSI_90_SAFETY                        1.0   \n",
       "394    AR  Serious complications  PSI_90_SAFETY                        3.0   \n",
       "395    AS  Serious complications  PSI_90_SAFETY                        0.0   \n",
       "396    AZ  Serious complications  PSI_90_SAFETY                        1.0   \n",
       "\n",
       "     Number of Hospitals Same  Number of Hospitals Better  \\\n",
       "392                       9.0                         0.0   \n",
       "393                      82.0                         0.0   \n",
       "394                      41.0                         1.0   \n",
       "395                       0.0                         0.0   \n",
       "396                      62.0                         1.0   \n",
       "\n",
       "     Number of Hospitals Too Few  \\\n",
       "392                          0.0   \n",
       "393                          0.0   \n",
       "394                          0.0   \n",
       "395                          0.0   \n",
       "396                          0.0   \n",
       "\n",
       "                                              Footnote Measure Start Date  \\\n",
       "392  20 - State and national averages do not includ...         2014-07-01   \n",
       "393  20 - State and national averages do not includ...         2014-07-01   \n",
       "394  20 - State and national averages do not includ...         2014-07-01   \n",
       "395  5 - Results are NaN for this reporting period....         2014-07-01   \n",
       "396  20 - State and national averages do not includ...         2014-07-01   \n",
       "\n",
       "    Measure End Date  \n",
       "392       2015-09-30  \n",
       "393       2015-09-30  \n",
       "394       2015-09-30  \n",
       "395       2015-09-30  \n",
       "396       2015-09-30  "
      ]
     },
     "execution_count": 19,
     "metadata": {},
     "output_type": "execute_result"
    }
   ],
   "source": [
    "HospState_PSI.head(5)"
   ]
  },
  {
   "cell_type": "code",
   "execution_count": 20,
   "metadata": {
    "collapsed": true
   },
   "outputs": [],
   "source": [
    "#PSI Indicators by State summary\n",
    "HospState_PSI_group = HospState_PSI.groupby(by=['State'],as_index=False)[HospState.columns[:]].sum()\n",
    "HospState_PSI_group['Sum'] = HospState_PSI_group.sum(axis=1)"
   ]
  },
  {
   "cell_type": "code",
   "execution_count": 21,
   "metadata": {
    "collapsed": true
   },
   "outputs": [],
   "source": [
    "#Mortality Measures by State summary\n",
    "HospState_Mortality_group=HospState_Mortality.groupby(by=['State'],as_index=False)[HospState.columns[:]].sum()\n",
    "HospState_Mortality_group['Sum'] = HospState_Mortality_group.sum(axis=1)"
   ]
  },
  {
   "cell_type": "code",
   "execution_count": 22,
   "metadata": {},
   "outputs": [
    {
     "data": {
      "text/html": [
       "<div>\n",
       "<style>\n",
       "    .dataframe thead tr:only-child th {\n",
       "        text-align: right;\n",
       "    }\n",
       "\n",
       "    .dataframe thead th {\n",
       "        text-align: left;\n",
       "    }\n",
       "\n",
       "    .dataframe tbody tr th {\n",
       "        vertical-align: top;\n",
       "    }\n",
       "</style>\n",
       "<table border=\"1\" class=\"dataframe\">\n",
       "  <thead>\n",
       "    <tr style=\"text-align: right;\">\n",
       "      <th></th>\n",
       "      <th>State</th>\n",
       "      <th>Number of Hospitals Worse</th>\n",
       "      <th>Number of Hospitals Same</th>\n",
       "      <th>Number of Hospitals Better</th>\n",
       "      <th>Number of Hospitals Too Few</th>\n",
       "      <th>Sum</th>\n",
       "    </tr>\n",
       "  </thead>\n",
       "  <tbody>\n",
       "    <tr>\n",
       "      <th>0</th>\n",
       "      <td>AK</td>\n",
       "      <td>1.0</td>\n",
       "      <td>49.0</td>\n",
       "      <td>0.0</td>\n",
       "      <td>60.0</td>\n",
       "      <td>110.0</td>\n",
       "    </tr>\n",
       "    <tr>\n",
       "      <th>1</th>\n",
       "      <td>AL</td>\n",
       "      <td>21.0</td>\n",
       "      <td>336.0</td>\n",
       "      <td>3.0</td>\n",
       "      <td>106.0</td>\n",
       "      <td>466.0</td>\n",
       "    </tr>\n",
       "    <tr>\n",
       "      <th>2</th>\n",
       "      <td>AR</td>\n",
       "      <td>22.0</td>\n",
       "      <td>260.0</td>\n",
       "      <td>0.0</td>\n",
       "      <td>97.0</td>\n",
       "      <td>379.0</td>\n",
       "    </tr>\n",
       "    <tr>\n",
       "      <th>3</th>\n",
       "      <td>AS</td>\n",
       "      <td>0.0</td>\n",
       "      <td>1.0</td>\n",
       "      <td>0.0</td>\n",
       "      <td>4.0</td>\n",
       "      <td>5.0</td>\n",
       "    </tr>\n",
       "    <tr>\n",
       "      <th>4</th>\n",
       "      <td>AZ</td>\n",
       "      <td>4.0</td>\n",
       "      <td>272.0</td>\n",
       "      <td>9.0</td>\n",
       "      <td>94.0</td>\n",
       "      <td>379.0</td>\n",
       "    </tr>\n",
       "  </tbody>\n",
       "</table>\n",
       "</div>"
      ],
      "text/plain": [
       "  State  Number of Hospitals Worse  Number of Hospitals Same  \\\n",
       "0    AK                        1.0                      49.0   \n",
       "1    AL                       21.0                     336.0   \n",
       "2    AR                       22.0                     260.0   \n",
       "3    AS                        0.0                       1.0   \n",
       "4    AZ                        4.0                     272.0   \n",
       "\n",
       "   Number of Hospitals Better  Number of Hospitals Too Few    Sum  \n",
       "0                         0.0                         60.0  110.0  \n",
       "1                         3.0                        106.0  466.0  \n",
       "2                         0.0                         97.0  379.0  \n",
       "3                         0.0                          4.0    5.0  \n",
       "4                         9.0                         94.0  379.0  "
      ]
     },
     "execution_count": 22,
     "metadata": {},
     "output_type": "execute_result"
    }
   ],
   "source": [
    "HospState_Mortality_group.head(5)"
   ]
  },
  {
   "cell_type": "code",
   "execution_count": 23,
   "metadata": {},
   "outputs": [
    {
     "data": {
      "text/html": [
       "<div>\n",
       "<style>\n",
       "    .dataframe thead tr:only-child th {\n",
       "        text-align: right;\n",
       "    }\n",
       "\n",
       "    .dataframe thead th {\n",
       "        text-align: left;\n",
       "    }\n",
       "\n",
       "    .dataframe tbody tr th {\n",
       "        vertical-align: top;\n",
       "    }\n",
       "</style>\n",
       "<table border=\"1\" class=\"dataframe\">\n",
       "  <thead>\n",
       "    <tr style=\"text-align: right;\">\n",
       "      <th></th>\n",
       "      <th>State</th>\n",
       "      <th>Number of Hospitals Worse</th>\n",
       "      <th>Number of Hospitals Same</th>\n",
       "      <th>Number of Hospitals Better</th>\n",
       "      <th>Number of Hospitals Too Few</th>\n",
       "      <th>Sum</th>\n",
       "    </tr>\n",
       "  </thead>\n",
       "  <tbody>\n",
       "    <tr>\n",
       "      <th>0</th>\n",
       "      <td>AK</td>\n",
       "      <td>0.0</td>\n",
       "      <td>83.0</td>\n",
       "      <td>0.0</td>\n",
       "      <td>13.0</td>\n",
       "      <td>96.0</td>\n",
       "    </tr>\n",
       "    <tr>\n",
       "      <th>1</th>\n",
       "      <td>AL</td>\n",
       "      <td>7.0</td>\n",
       "      <td>694.0</td>\n",
       "      <td>0.0</td>\n",
       "      <td>110.0</td>\n",
       "      <td>811.0</td>\n",
       "    </tr>\n",
       "    <tr>\n",
       "      <th>2</th>\n",
       "      <td>AR</td>\n",
       "      <td>9.0</td>\n",
       "      <td>401.0</td>\n",
       "      <td>2.0</td>\n",
       "      <td>80.0</td>\n",
       "      <td>492.0</td>\n",
       "    </tr>\n",
       "    <tr>\n",
       "      <th>3</th>\n",
       "      <td>AS</td>\n",
       "      <td>0.0</td>\n",
       "      <td>0.0</td>\n",
       "      <td>0.0</td>\n",
       "      <td>0.0</td>\n",
       "      <td>0.0</td>\n",
       "    </tr>\n",
       "    <tr>\n",
       "      <th>4</th>\n",
       "      <td>AZ</td>\n",
       "      <td>8.0</td>\n",
       "      <td>613.0</td>\n",
       "      <td>3.0</td>\n",
       "      <td>68.0</td>\n",
       "      <td>692.0</td>\n",
       "    </tr>\n",
       "  </tbody>\n",
       "</table>\n",
       "</div>"
      ],
      "text/plain": [
       "  State  Number of Hospitals Worse  Number of Hospitals Same  \\\n",
       "0    AK                        0.0                      83.0   \n",
       "1    AL                        7.0                     694.0   \n",
       "2    AR                        9.0                     401.0   \n",
       "3    AS                        0.0                       0.0   \n",
       "4    AZ                        8.0                     613.0   \n",
       "\n",
       "   Number of Hospitals Better  Number of Hospitals Too Few    Sum  \n",
       "0                         0.0                         13.0   96.0  \n",
       "1                         0.0                        110.0  811.0  \n",
       "2                         2.0                         80.0  492.0  \n",
       "3                         0.0                          0.0    0.0  \n",
       "4                         3.0                         68.0  692.0  "
      ]
     },
     "execution_count": 23,
     "metadata": {},
     "output_type": "execute_result"
    }
   ],
   "source": [
    "HospState_PSI_group.head(5)"
   ]
  },
  {
   "cell_type": "code",
   "execution_count": 24,
   "metadata": {},
   "outputs": [
    {
     "name": "stderr",
     "output_type": "stream",
     "text": [
      "C:\\Users\\Aswathi\\Anaconda3\\lib\\site-packages\\ipykernel_launcher.py:1: DeprecationWarning: \n",
      ".ix is deprecated. Please use\n",
      ".loc for label based indexing or\n",
      ".iloc for positional indexing\n",
      "\n",
      "See the documentation here:\n",
      "http://pandas.pydata.org/pandas-docs/stable/indexing.html#deprecate_ix\n",
      "  \"\"\"Entry point for launching an IPython kernel.\n"
     ]
    },
    {
     "data": {
      "text/plain": [
       "<matplotlib.axes._subplots.AxesSubplot at 0x23c02019898>"
      ]
     },
     "execution_count": 24,
     "metadata": {},
     "output_type": "execute_result"
    }
   ],
   "source": [
    "HospState_PSI_group.ix[:,0:4].plot.bar(x='State',stacked=True,title=\"No. of Hospitals Worse/Same/Better for PSI for every State in the US\")"
   ]
  },
  {
   "cell_type": "code",
   "execution_count": 25,
   "metadata": {},
   "outputs": [
    {
     "data": {
      "text/plain": [
       "<matplotlib.figure.Figure at 0x23c01b31438>"
      ]
     },
     "metadata": {},
     "output_type": "display_data"
    },
    {
     "data": {
      "text/plain": [
       "<matplotlib.figure.Figure at 0x23c01fc4978>"
      ]
     },
     "metadata": {},
     "output_type": "display_data"
    },
    {
     "data": {
      "image/png": "[encoded data removed]",
      "text/plain": [
       "<matplotlib.figure.Figure at 0x23c02019320>"
      ]
     },
     "metadata": {},
     "output_type": "display_data"
    }
   ],
   "source": [
    "plt.show()"
   ]
  },
  {
   "cell_type": "code",
   "execution_count": 26,
   "metadata": {},
   "outputs": [
    {
     "data": {
      "text/html": [
       "<div>\n",
       "<style>\n",
       "    .dataframe thead tr:only-child th {\n",
       "        text-align: right;\n",
       "    }\n",
       "\n",
       "    .dataframe thead th {\n",
       "        text-align: left;\n",
       "    }\n",
       "\n",
       "    .dataframe tbody tr th {\n",
       "        vertical-align: top;\n",
       "    }\n",
       "</style>\n",
       "<table border=\"1\" class=\"dataframe\">\n",
       "  <thead>\n",
       "    <tr style=\"text-align: right;\">\n",
       "      <th></th>\n",
       "      <th>Provider ID</th>\n",
       "      <th>Hospital Name</th>\n",
       "      <th>Address</th>\n",
       "      <th>City</th>\n",
       "      <th>State</th>\n",
       "      <th>ZIP Code</th>\n",
       "      <th>County Name</th>\n",
       "      <th>Phone Number</th>\n",
       "      <th>Measure Name</th>\n",
       "      <th>Measure ID</th>\n",
       "      <th>Compared to National</th>\n",
       "      <th>Denominator</th>\n",
       "      <th>Score</th>\n",
       "      <th>Lower Estimate</th>\n",
       "      <th>Higher Estimate</th>\n",
       "      <th>Footnote</th>\n",
       "      <th>Measure Start Date</th>\n",
       "      <th>Measure End Date</th>\n",
       "    </tr>\n",
       "  </thead>\n",
       "  <tbody>\n",
       "    <tr>\n",
       "      <th>0</th>\n",
       "      <td>10001</td>\n",
       "      <td>SOUTHEAST ALABAMA MEDICAL CENTER</td>\n",
       "      <td>1108 ROSS CLARK CIRCLE</td>\n",
       "      <td>DOTHAN</td>\n",
       "      <td>AL</td>\n",
       "      <td>36301</td>\n",
       "      <td>HOUSTON</td>\n",
       "      <td>3347938701</td>\n",
       "      <td>Rate of complications for hip/knee replacement...</td>\n",
       "      <td>COMP_HIP_KNEE</td>\n",
       "      <td>Worse than the National Rate</td>\n",
       "      <td>337</td>\n",
       "      <td>4.2</td>\n",
       "      <td>2.9</td>\n",
       "      <td>6</td>\n",
       "      <td>NaN</td>\n",
       "      <td>2013-04-01</td>\n",
       "      <td>2016-03-31</td>\n",
       "    </tr>\n",
       "    <tr>\n",
       "      <th>1</th>\n",
       "      <td>10001</td>\n",
       "      <td>SOUTHEAST ALABAMA MEDICAL CENTER</td>\n",
       "      <td>1108 ROSS CLARK CIRCLE</td>\n",
       "      <td>DOTHAN</td>\n",
       "      <td>AL</td>\n",
       "      <td>36301</td>\n",
       "      <td>HOUSTON</td>\n",
       "      <td>3347938701</td>\n",
       "      <td>Acute Myocardial Infarction (AMI) 30-Day Morta...</td>\n",
       "      <td>MORT_30_AMI</td>\n",
       "      <td>No Different than the National Rate</td>\n",
       "      <td>744</td>\n",
       "      <td>13.4</td>\n",
       "      <td>11.4</td>\n",
       "      <td>15.8</td>\n",
       "      <td>NaN</td>\n",
       "      <td>2013-07-01</td>\n",
       "      <td>2016-06-30</td>\n",
       "    </tr>\n",
       "    <tr>\n",
       "      <th>2</th>\n",
       "      <td>10001</td>\n",
       "      <td>SOUTHEAST ALABAMA MEDICAL CENTER</td>\n",
       "      <td>1108 ROSS CLARK CIRCLE</td>\n",
       "      <td>DOTHAN</td>\n",
       "      <td>AL</td>\n",
       "      <td>36301</td>\n",
       "      <td>HOUSTON</td>\n",
       "      <td>3347938701</td>\n",
       "      <td>Death rate for CABG</td>\n",
       "      <td>MORT_30_CABG</td>\n",
       "      <td>No Different than the National Rate</td>\n",
       "      <td>280</td>\n",
       "      <td>3.5</td>\n",
       "      <td>2.1</td>\n",
       "      <td>5.8</td>\n",
       "      <td>NaN</td>\n",
       "      <td>2013-07-01</td>\n",
       "      <td>2016-06-30</td>\n",
       "    </tr>\n",
       "    <tr>\n",
       "      <th>3</th>\n",
       "      <td>10001</td>\n",
       "      <td>SOUTHEAST ALABAMA MEDICAL CENTER</td>\n",
       "      <td>1108 ROSS CLARK CIRCLE</td>\n",
       "      <td>DOTHAN</td>\n",
       "      <td>AL</td>\n",
       "      <td>36301</td>\n",
       "      <td>HOUSTON</td>\n",
       "      <td>3347938701</td>\n",
       "      <td>Death rate for chronic obstructive pulmonary d...</td>\n",
       "      <td>MORT_30_COPD</td>\n",
       "      <td>No Different than the National Rate</td>\n",
       "      <td>522</td>\n",
       "      <td>9.7</td>\n",
       "      <td>7.6</td>\n",
       "      <td>12.3</td>\n",
       "      <td>NaN</td>\n",
       "      <td>2013-07-01</td>\n",
       "      <td>2016-06-30</td>\n",
       "    </tr>\n",
       "    <tr>\n",
       "      <th>4</th>\n",
       "      <td>10001</td>\n",
       "      <td>SOUTHEAST ALABAMA MEDICAL CENTER</td>\n",
       "      <td>1108 ROSS CLARK CIRCLE</td>\n",
       "      <td>DOTHAN</td>\n",
       "      <td>AL</td>\n",
       "      <td>36301</td>\n",
       "      <td>HOUSTON</td>\n",
       "      <td>3347938701</td>\n",
       "      <td>Heart failure (HF) 30-Day Mortality Rate</td>\n",
       "      <td>MORT_30_HF</td>\n",
       "      <td>No Different than the National Rate</td>\n",
       "      <td>858</td>\n",
       "      <td>11.4</td>\n",
       "      <td>9.5</td>\n",
       "      <td>13.6</td>\n",
       "      <td>NaN</td>\n",
       "      <td>2013-07-01</td>\n",
       "      <td>2016-06-30</td>\n",
       "    </tr>\n",
       "  </tbody>\n",
       "</table>\n",
       "</div>"
      ],
      "text/plain": [
       "   Provider ID                     Hospital Name                 Address  \\\n",
       "0        10001  SOUTHEAST ALABAMA MEDICAL CENTER  1108 ROSS CLARK CIRCLE   \n",
       "1        10001  SOUTHEAST ALABAMA MEDICAL CENTER  1108 ROSS CLARK CIRCLE   \n",
       "2        10001  SOUTHEAST ALABAMA MEDICAL CENTER  1108 ROSS CLARK CIRCLE   \n",
       "3        10001  SOUTHEAST ALABAMA MEDICAL CENTER  1108 ROSS CLARK CIRCLE   \n",
       "4        10001  SOUTHEAST ALABAMA MEDICAL CENTER  1108 ROSS CLARK CIRCLE   \n",
       "\n",
       "     City State  ZIP Code County Name  Phone Number  \\\n",
       "0  DOTHAN    AL     36301     HOUSTON    3347938701   \n",
       "1  DOTHAN    AL     36301     HOUSTON    3347938701   \n",
       "2  DOTHAN    AL     36301     HOUSTON    3347938701   \n",
       "3  DOTHAN    AL     36301     HOUSTON    3347938701   \n",
       "4  DOTHAN    AL     36301     HOUSTON    3347938701   \n",
       "\n",
       "                                        Measure Name     Measure ID  \\\n",
       "0  Rate of complications for hip/knee replacement...  COMP_HIP_KNEE   \n",
       "1  Acute Myocardial Infarction (AMI) 30-Day Morta...    MORT_30_AMI   \n",
       "2                                Death rate for CABG   MORT_30_CABG   \n",
       "3  Death rate for chronic obstructive pulmonary d...   MORT_30_COPD   \n",
       "4           Heart failure (HF) 30-Day Mortality Rate     MORT_30_HF   \n",
       "\n",
       "                  Compared to National Denominator Score Lower Estimate  \\\n",
       "0         Worse than the National Rate         337   4.2            2.9   \n",
       "1  No Different than the National Rate         744  13.4           11.4   \n",
       "2  No Different than the National Rate         280   3.5            2.1   \n",
       "3  No Different than the National Rate         522   9.7            7.6   \n",
       "4  No Different than the National Rate         858  11.4            9.5   \n",
       "\n",
       "  Higher Estimate Footnote Measure Start Date Measure End Date  \n",
       "0               6      NaN         2013-04-01       2016-03-31  \n",
       "1            15.8      NaN         2013-07-01       2016-06-30  \n",
       "2             5.8      NaN         2013-07-01       2016-06-30  \n",
       "3            12.3      NaN         2013-07-01       2016-06-30  \n",
       "4            13.6      NaN         2013-07-01       2016-06-30  "
      ]
     },
     "execution_count": 26,
     "metadata": {},
     "output_type": "execute_result"
    }
   ],
   "source": [
    "HospComp.head(5)"
   ]
  },
  {
   "cell_type": "code",
   "execution_count": 27,
   "metadata": {
    "collapsed": true
   },
   "outputs": [],
   "source": [
    "#On a national level, how many hospitals for PSI indicators are above,below national rate\n",
    "\n",
    "HospComp_PSI = HospComp.loc[HospComp['Measure ID'].isin(['PSI_90_SAFETY','PSI_6_IAT_PTX','PSI_12_POSTOP_PULMEMB_DVT',\n",
    "                                                           'PSI_14_POSTOP_DEHIS','PSI_15_ACC_LAC','PSI_4_SURG_COMP',\n",
    "                                                           'PSI_3_ULCER','PSI_8_POST_HIP','PSI_13_POST_SEPSIS','PSI_9_POST_HEM','PSI_10_POST_KIDNEY',\n",
    "                                                           'PSI_11_POST_RESP'])]\n",
    "\n",
    "HospNational_PSI = HospNational.loc[HospNational['Measure ID'].isin(['PSI_90_SAFETY','PSI_6_IAT_PTX','PSI_12_POSTOP_PULMEMB_DVT',\n",
    "                                                           'PSI_14_POSTOP_DEHIS','PSI_15_ACC_LAC','PSI_4_SURG_COMP',\n",
    "                                                           'PSI_3_ULCER','PSI_8_POST_HIP','PSI_13_POST_SEPSIS','PSI_9_POST_HEM','PSI_10_POST_KIDNEY',\n",
    "                                                           'PSI_11_POST_RESP'])]"
   ]
  },
  {
   "cell_type": "code",
   "execution_count": 28,
   "metadata": {
    "collapsed": true
   },
   "outputs": [],
   "source": [
    "HospComp_PSI_group = HospComp_PSI.groupby(['Measure ID','Compared to National'])['Provider ID'].nunique()"
   ]
  },
  {
   "cell_type": "code",
   "execution_count": 29,
   "metadata": {},
   "outputs": [
    {
     "data": {
      "text/plain": [
       "<matplotlib.text.Text at 0x23c02296ac8>"
      ]
     },
     "execution_count": 29,
     "metadata": {},
     "output_type": "execute_result"
    }
   ],
   "source": [
    "a= pd.pivot_table(HospState,values=['Number of Hospitals Better'],index=['State'],columns=['Measure ID'],aggfunc='sum',margins=False)\n",
    "\n",
    "plt.figure(figsize=(10,10))\n",
    "sns.heatmap(a['Number of Hospitals Better'],linewidths=.5,annot=True,vmin=0.01,cmap='YlGnBu')\n",
    "plt.title('')"
   ]
  },
  {
   "cell_type": "code",
   "execution_count": 30,
   "metadata": {},
   "outputs": [
    {
     "data": {
      "image/png": "[encoded data removed]",
      "text/plain": [
       "<matplotlib.figure.Figure at 0x23c045fb978>"
      ]
     },
     "metadata": {},
     "output_type": "display_data"
    }
   ],
   "source": [
    "plt.show()"
   ]
  },
  {
   "cell_type": "code",
   "execution_count": 31,
   "metadata": {},
   "outputs": [
    {
     "name": "stderr",
     "output_type": "stream",
     "text": [
      "C:\\Users\\Aswathi\\Anaconda3\\lib\\site-packages\\ipykernel_launcher.py:1: DeprecationWarning: \n",
      ".ix is deprecated. Please use\n",
      ".loc for label based indexing or\n",
      ".iloc for positional indexing\n",
      "\n",
      "See the documentation here:\n",
      "http://pandas.pydata.org/pandas-docs/stable/indexing.html#deprecate_ix\n",
      "  \"\"\"Entry point for launching an IPython kernel.\n"
     ]
    }
   ],
   "source": [
    "HospNational_PSI = HospNational_PSI.ix[:,1:7]"
   ]
  },
  {
   "cell_type": "code",
   "execution_count": 32,
   "metadata": {
    "collapsed": true
   },
   "outputs": [],
   "source": [
    "HospNational_PSI = HospNational_PSI.replace('Not Available',0)\n"
   ]
  },
  {
   "cell_type": "code",
   "execution_count": 33,
   "metadata": {},
   "outputs": [
    {
     "data": {
      "text/html": [
       "<div>\n",
       "<style>\n",
       "    .dataframe thead tr:only-child th {\n",
       "        text-align: right;\n",
       "    }\n",
       "\n",
       "    .dataframe thead th {\n",
       "        text-align: left;\n",
       "    }\n",
       "\n",
       "    .dataframe tbody tr th {\n",
       "        vertical-align: top;\n",
       "    }\n",
       "</style>\n",
       "<table border=\"1\" class=\"dataframe\">\n",
       "  <thead>\n",
       "    <tr style=\"text-align: right;\">\n",
       "      <th></th>\n",
       "      <th>Measure ID</th>\n",
       "      <th>National Rate</th>\n",
       "      <th>Number of Hospitals Worse</th>\n",
       "      <th>Number of Hospitals Same</th>\n",
       "      <th>Number of Hospitals Better</th>\n",
       "      <th>Number of Hospitals Too Few</th>\n",
       "    </tr>\n",
       "  </thead>\n",
       "  <tbody>\n",
       "    <tr>\n",
       "      <th>0</th>\n",
       "      <td>PSI_14_POSTOP_DEHIS</td>\n",
       "      <td>2.26</td>\n",
       "      <td>5</td>\n",
       "      <td>2322</td>\n",
       "      <td>0</td>\n",
       "      <td>635</td>\n",
       "    </tr>\n",
       "    <tr>\n",
       "      <th>1</th>\n",
       "      <td>PSI_15_ACC_LAC</td>\n",
       "      <td>0.88</td>\n",
       "      <td>4</td>\n",
       "      <td>2419</td>\n",
       "      <td>0</td>\n",
       "      <td>558</td>\n",
       "    </tr>\n",
       "    <tr>\n",
       "      <th>3</th>\n",
       "      <td>PSI_13_POST_SEPSIS</td>\n",
       "      <td>5.94</td>\n",
       "      <td>41</td>\n",
       "      <td>2666</td>\n",
       "      <td>19</td>\n",
       "      <td>279</td>\n",
       "    </tr>\n",
       "    <tr>\n",
       "      <th>4</th>\n",
       "      <td>PSI_8_POST_HIP</td>\n",
       "      <td>0.10</td>\n",
       "      <td>0</td>\n",
       "      <td>3218</td>\n",
       "      <td>0</td>\n",
       "      <td>121</td>\n",
       "    </tr>\n",
       "    <tr>\n",
       "      <th>5</th>\n",
       "      <td>PSI_6_IAT_PTX</td>\n",
       "      <td>0.40</td>\n",
       "      <td>16</td>\n",
       "      <td>3295</td>\n",
       "      <td>0</td>\n",
       "      <td>55</td>\n",
       "    </tr>\n",
       "  </tbody>\n",
       "</table>\n",
       "</div>"
      ],
      "text/plain": [
       "            Measure ID  National Rate  Number of Hospitals Worse  \\\n",
       "0  PSI_14_POSTOP_DEHIS           2.26                          5   \n",
       "1       PSI_15_ACC_LAC           0.88                          4   \n",
       "3   PSI_13_POST_SEPSIS           5.94                         41   \n",
       "4       PSI_8_POST_HIP           0.10                          0   \n",
       "5        PSI_6_IAT_PTX           0.40                         16   \n",
       "\n",
       "   Number of Hospitals Same  Number of Hospitals Better  \\\n",
       "0                      2322                           0   \n",
       "1                      2419                           0   \n",
       "3                      2666                          19   \n",
       "4                      3218                           0   \n",
       "5                      3295                           0   \n",
       "\n",
       "   Number of Hospitals Too Few  \n",
       "0                          635  \n",
       "1                          558  \n",
       "3                          279  \n",
       "4                          121  \n",
       "5                           55  "
      ]
     },
     "execution_count": 33,
     "metadata": {},
     "output_type": "execute_result"
    }
   ],
   "source": [
    "HospNational_PSI.head(5)\n"
   ]
  },
  {
   "cell_type": "code",
   "execution_count": 34,
   "metadata": {},
   "outputs": [
    {
     "name": "stderr",
     "output_type": "stream",
     "text": [
      "C:\\Users\\Aswathi\\Anaconda3\\lib\\site-packages\\ipykernel_launcher.py:1: DeprecationWarning: \n",
      ".ix is deprecated. Please use\n",
      ".loc for label based indexing or\n",
      ".iloc for positional indexing\n",
      "\n",
      "See the documentation here:\n",
      "http://pandas.pydata.org/pandas-docs/stable/indexing.html#deprecate_ix\n",
      "  \"\"\"Entry point for launching an IPython kernel.\n"
     ]
    },
    {
     "data": {
      "text/plain": [
       "<matplotlib.axes._subplots.AxesSubplot at 0x23c05755080>"
      ]
     },
     "execution_count": 34,
     "metadata": {},
     "output_type": "execute_result"
    }
   ],
   "source": [
    "HospNational_PSI.ix[:,2:6].plot(kind='bar')"
   ]
  },
  {
   "cell_type": "code",
   "execution_count": 35,
   "metadata": {},
   "outputs": [
    {
     "data": {
      "image/png": "[encoded data removed]",
      "text/plain": [
       "<matplotlib.figure.Figure at 0x23c05755048>"
      ]
     },
     "metadata": {},
     "output_type": "display_data"
    }
   ],
   "source": [
    "plt.show()"
   ]
  },
  {
   "cell_type": "code",
   "execution_count": 36,
   "metadata": {},
   "outputs": [
    {
     "data": {
      "text/plain": [
       "Measure ID                 Compared to National               \n",
       "PSI_10_POST_KIDNEY         No Different than the National Rate    2711\n",
       "                           Not Available                          1793\n",
       "                           Number of Cases Too Small               302\n",
       "                           Worse than the National Rate              6\n",
       "PSI_11_POST_RESP           Better than the National Rate            68\n",
       "                           No Different than the National Rate    2491\n",
       "                           Not Available                          1797\n",
       "                           Number of Cases Too Small               324\n",
       "                           Worse than the National Rate            132\n",
       "PSI_12_POSTOP_PULMEMB_DVT  Better than the National Rate            23\n",
       "                           No Different than the National Rate    2840\n",
       "                           Not Available                          1681\n",
       "                           Number of Cases Too Small               171\n",
       "                           Worse than the National Rate             97\n",
       "PSI_13_POST_SEPSIS         Better than the National Rate            18\n",
       "                           No Different than the National Rate    2629\n",
       "                           Not Available                          1810\n",
       "                           Number of Cases Too Small               314\n",
       "                           Worse than the National Rate             41\n",
       "PSI_14_POSTOP_DEHIS        No Different than the National Rate    2305\n",
       "                           Not Available                          1814\n",
       "                           Number of Cases Too Small               688\n",
       "                           Worse than the National Rate              5\n",
       "PSI_15_ACC_LAC             No Different than the National Rate    2398\n",
       "                           Not Available                          1807\n",
       "                           Number of Cases Too Small               603\n",
       "                           Worse than the National Rate              4\n",
       "PSI_3_ULCER                No Different than the National Rate    3068\n",
       "                           Not Available                          1580\n",
       "                           Number of Cases Too Small                57\n",
       "                           Worse than the National Rate            107\n",
       "PSI_4_SURG_COMP            Better than the National Rate            14\n",
       "                           No Different than the National Rate    1432\n",
       "                           Not Available                          1892\n",
       "                           Number of Cases Too Small              1463\n",
       "                           Worse than the National Rate             11\n",
       "PSI_6_IAT_PTX              No Different than the National Rate    3191\n",
       "                           Not Available                          1572\n",
       "                           Number of Cases Too Small                34\n",
       "                           Worse than the National Rate             15\n",
       "PSI_8_POST_HIP             No Different than the National Rate    3120\n",
       "                           Not Available                          1578\n",
       "                           Number of Cases Too Small               114\n",
       "PSI_90_SAFETY              Better than the National Rate            66\n",
       "                           No Different than the National Rate    3044\n",
       "                           Not Available                          1570\n",
       "                           Number of Cases Too Small                 4\n",
       "                           Worse than the National Rate            128\n",
       "PSI_9_POST_HEM             Better than the National Rate             7\n",
       "                           No Different than the National Rate    2921\n",
       "                           Not Available                          1685\n",
       "                           Number of Cases Too Small               171\n",
       "                           Worse than the National Rate             28\n",
       "Name: Provider ID, dtype: int64"
      ]
     },
     "execution_count": 36,
     "metadata": {},
     "output_type": "execute_result"
    }
   ],
   "source": [
    "HospComp_PSI_group"
   ]
  },
  {
   "cell_type": "code",
   "execution_count": 37,
   "metadata": {
    "collapsed": true
   },
   "outputs": [],
   "source": [
    "# get the count of the total number of hospitals in every state listed\n",
    "HospComp_Hospitals = HospComp.groupby('State')['Provider ID'].nunique().sort_values(ascending=False)"
   ]
  },
  {
   "cell_type": "code",
   "execution_count": 38,
   "metadata": {
    "collapsed": true
   },
   "outputs": [],
   "source": [
    "HospComp_Hospitals = pd.DataFrame(HospComp_Hospitals)"
   ]
  },
  {
   "cell_type": "code",
   "execution_count": 39,
   "metadata": {},
   "outputs": [
    {
     "data": {
      "text/html": [
       "<div>\n",
       "<style>\n",
       "    .dataframe thead tr:only-child th {\n",
       "        text-align: right;\n",
       "    }\n",
       "\n",
       "    .dataframe thead th {\n",
       "        text-align: left;\n",
       "    }\n",
       "\n",
       "    .dataframe tbody tr th {\n",
       "        vertical-align: top;\n",
       "    }\n",
       "</style>\n",
       "<table border=\"1\" class=\"dataframe\">\n",
       "  <thead>\n",
       "    <tr style=\"text-align: right;\">\n",
       "      <th></th>\n",
       "      <th>Provider ID</th>\n",
       "    </tr>\n",
       "    <tr>\n",
       "      <th>State</th>\n",
       "      <th></th>\n",
       "    </tr>\n",
       "  </thead>\n",
       "  <tbody>\n",
       "    <tr>\n",
       "      <th>TX</th>\n",
       "      <td>410</td>\n",
       "    </tr>\n",
       "    <tr>\n",
       "      <th>CA</th>\n",
       "      <td>343</td>\n",
       "    </tr>\n",
       "    <tr>\n",
       "      <th>FL</th>\n",
       "      <td>187</td>\n",
       "    </tr>\n",
       "    <tr>\n",
       "      <th>IL</th>\n",
       "      <td>180</td>\n",
       "    </tr>\n",
       "    <tr>\n",
       "      <th>NY</th>\n",
       "      <td>171</td>\n",
       "    </tr>\n",
       "  </tbody>\n",
       "</table>\n",
       "</div>"
      ],
      "text/plain": [
       "       Provider ID\n",
       "State             \n",
       "TX             410\n",
       "CA             343\n",
       "FL             187\n",
       "IL             180\n",
       "NY             171"
      ]
     },
     "execution_count": 39,
     "metadata": {},
     "output_type": "execute_result"
    }
   ],
   "source": [
    "HospComp_Hospitals.head(5)"
   ]
  },
  {
   "cell_type": "code",
   "execution_count": 40,
   "metadata": {},
   "outputs": [
    {
     "data": {
      "text/html": [
       "<div>\n",
       "<style>\n",
       "    .dataframe thead tr:only-child th {\n",
       "        text-align: right;\n",
       "    }\n",
       "\n",
       "    .dataframe thead th {\n",
       "        text-align: left;\n",
       "    }\n",
       "\n",
       "    .dataframe tbody tr th {\n",
       "        vertical-align: top;\n",
       "    }\n",
       "</style>\n",
       "<table border=\"1\" class=\"dataframe\">\n",
       "  <thead>\n",
       "    <tr style=\"text-align: right;\">\n",
       "      <th></th>\n",
       "      <th>State</th>\n",
       "      <th>2017 Population</th>\n",
       "    </tr>\n",
       "  </thead>\n",
       "  <tbody>\n",
       "    <tr>\n",
       "      <th>0</th>\n",
       "      <td>AL</td>\n",
       "      <td>4884115</td>\n",
       "    </tr>\n",
       "    <tr>\n",
       "      <th>1</th>\n",
       "      <td>AK</td>\n",
       "      <td>741204</td>\n",
       "    </tr>\n",
       "    <tr>\n",
       "      <th>2</th>\n",
       "      <td>AZ</td>\n",
       "      <td>7026629</td>\n",
       "    </tr>\n",
       "    <tr>\n",
       "      <th>3</th>\n",
       "      <td>AR</td>\n",
       "      <td>3000942</td>\n",
       "    </tr>\n",
       "    <tr>\n",
       "      <th>4</th>\n",
       "      <td>CA</td>\n",
       "      <td>39849872</td>\n",
       "    </tr>\n",
       "  </tbody>\n",
       "</table>\n",
       "</div>"
      ],
      "text/plain": [
       "  State  2017 Population\n",
       "0    AL          4884115\n",
       "1    AK           741204\n",
       "2    AZ          7026629\n",
       "3    AR          3000942\n",
       "4    CA         39849872"
      ]
     },
     "execution_count": 40,
     "metadata": {},
     "output_type": "execute_result"
    }
   ],
   "source": [
    "PopState.head(5)"
   ]
  },
  {
   "cell_type": "code",
   "execution_count": 41,
   "metadata": {
    "collapsed": true
   },
   "outputs": [],
   "source": [
    "HospState_PSI_group_1 = pd.merge(HospState_PSI_group,PopState, how='left')"
   ]
  },
  {
   "cell_type": "code",
   "execution_count": 42,
   "metadata": {
    "collapsed": true
   },
   "outputs": [],
   "source": [
    "HospState_PSI_group_2 = pd.merge(HospState_PSI_group_1,HospComp_Hospitals,left_on='State',right_index=True)"
   ]
  },
  {
   "cell_type": "code",
   "execution_count": 43,
   "metadata": {
    "collapsed": true
   },
   "outputs": [],
   "source": [
    "HospState_PSI_group_3 = HospState_PSI_group_2.rename(columns ={'Provider ID':'Total no.of Hospitals'})"
   ]
  },
  {
   "cell_type": "code",
   "execution_count": 44,
   "metadata": {
    "collapsed": true
   },
   "outputs": [],
   "source": [
    "HospState_PSI_Info= HospState_PSI_group_3"
   ]
  },
  {
   "cell_type": "code",
   "execution_count": 45,
   "metadata": {},
   "outputs": [
    {
     "data": {
      "text/html": [
       "<div>\n",
       "<style>\n",
       "    .dataframe thead tr:only-child th {\n",
       "        text-align: right;\n",
       "    }\n",
       "\n",
       "    .dataframe thead th {\n",
       "        text-align: left;\n",
       "    }\n",
       "\n",
       "    .dataframe tbody tr th {\n",
       "        vertical-align: top;\n",
       "    }\n",
       "</style>\n",
       "<table border=\"1\" class=\"dataframe\">\n",
       "  <thead>\n",
       "    <tr style=\"text-align: right;\">\n",
       "      <th></th>\n",
       "      <th>State</th>\n",
       "      <th>Number of Hospitals Worse</th>\n",
       "      <th>Number of Hospitals Same</th>\n",
       "      <th>Number of Hospitals Better</th>\n",
       "      <th>Number of Hospitals Too Few</th>\n",
       "      <th>Sum</th>\n",
       "      <th>2017 Population</th>\n",
       "      <th>Total no.of Hospitals</th>\n",
       "    </tr>\n",
       "  </thead>\n",
       "  <tbody>\n",
       "    <tr>\n",
       "      <th>0</th>\n",
       "      <td>AK</td>\n",
       "      <td>0.0</td>\n",
       "      <td>83.0</td>\n",
       "      <td>0.0</td>\n",
       "      <td>13.0</td>\n",
       "      <td>96.0</td>\n",
       "      <td>741204</td>\n",
       "      <td>22</td>\n",
       "    </tr>\n",
       "    <tr>\n",
       "      <th>1</th>\n",
       "      <td>AL</td>\n",
       "      <td>7.0</td>\n",
       "      <td>694.0</td>\n",
       "      <td>0.0</td>\n",
       "      <td>110.0</td>\n",
       "      <td>811.0</td>\n",
       "      <td>4884115</td>\n",
       "      <td>91</td>\n",
       "    </tr>\n",
       "    <tr>\n",
       "      <th>2</th>\n",
       "      <td>AR</td>\n",
       "      <td>9.0</td>\n",
       "      <td>401.0</td>\n",
       "      <td>2.0</td>\n",
       "      <td>80.0</td>\n",
       "      <td>492.0</td>\n",
       "      <td>3000942</td>\n",
       "      <td>75</td>\n",
       "    </tr>\n",
       "    <tr>\n",
       "      <th>3</th>\n",
       "      <td>AS</td>\n",
       "      <td>0.0</td>\n",
       "      <td>0.0</td>\n",
       "      <td>0.0</td>\n",
       "      <td>0.0</td>\n",
       "      <td>0.0</td>\n",
       "      <td>54194</td>\n",
       "      <td>1</td>\n",
       "    </tr>\n",
       "    <tr>\n",
       "      <th>4</th>\n",
       "      <td>AZ</td>\n",
       "      <td>8.0</td>\n",
       "      <td>613.0</td>\n",
       "      <td>3.0</td>\n",
       "      <td>68.0</td>\n",
       "      <td>692.0</td>\n",
       "      <td>7026629</td>\n",
       "      <td>80</td>\n",
       "    </tr>\n",
       "  </tbody>\n",
       "</table>\n",
       "</div>"
      ],
      "text/plain": [
       "  State  Number of Hospitals Worse  Number of Hospitals Same  \\\n",
       "0    AK                        0.0                      83.0   \n",
       "1    AL                        7.0                     694.0   \n",
       "2    AR                        9.0                     401.0   \n",
       "3    AS                        0.0                       0.0   \n",
       "4    AZ                        8.0                     613.0   \n",
       "\n",
       "   Number of Hospitals Better  Number of Hospitals Too Few    Sum  \\\n",
       "0                         0.0                         13.0   96.0   \n",
       "1                         0.0                        110.0  811.0   \n",
       "2                         2.0                         80.0  492.0   \n",
       "3                         0.0                          0.0    0.0   \n",
       "4                         3.0                         68.0  692.0   \n",
       "\n",
       "   2017 Population  Total no.of Hospitals  \n",
       "0           741204                     22  \n",
       "1          4884115                     91  \n",
       "2          3000942                     75  \n",
       "3            54194                      1  \n",
       "4          7026629                     80  "
      ]
     },
     "execution_count": 45,
     "metadata": {},
     "output_type": "execute_result"
    }
   ],
   "source": [
    "HospState_PSI_Info.head(5)"
   ]
  },
  {
   "cell_type": "code",
   "execution_count": null,
   "metadata": {
    "collapsed": true
   },
   "outputs": [],
   "source": []
  }
 ],
 "metadata": {
  "kernelspec": {
   "display_name": "Python 3",
   "language": "python",
   "name": "python3"
  },
  "language_info": {
   "codemirror_mode": {
    "name": "ipython",
    "version": 3
   },
   "file_extension": ".py",
   "mimetype": "text/x-python",
   "name": "python",
   "nbconvert_exporter": "python",
   "pygments_lexer": "ipython3",
   "version": "3.6.1"
  }
 },
 "nbformat": 4,
 "nbformat_minor": 2
}
